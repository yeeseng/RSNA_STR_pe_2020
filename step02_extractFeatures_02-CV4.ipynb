{
 "cells": [
  {
   "cell_type": "code",
   "execution_count": 1,
   "metadata": {},
   "outputs": [],
   "source": [
    "import os\n",
    "import random\n",
    "import numpy as np\n",
    "import math\n",
    "import pandas as pd\n",
    "import matplotlib.pyplot as plt\n",
    "import cv2\n",
    "import albumentations as albu\n",
    "import torch\n",
    "import torch.nn as nn\n",
    "from torch.utils.data import DataLoader\n",
    "from torch.utils.data import Dataset as BaseDataset\n",
    "from tqdm.notebook import trange, tqdm\n",
    "from torch.utils.tensorboard import SummaryWriter\n",
    "from torchsampler import ImbalancedDatasetSampler\n",
    "from torchvision import models\n",
    "import torchvision.transforms as transforms\n",
    "#from torchsummary import summary\n",
    "import torch.nn.functional as F\n",
    "from sklearn.model_selection import StratifiedKFold\n",
    "from sklearn.metrics import roc_auc_score, classification_report, roc_curve, average_precision_score\n",
    "from sklearn.model_selection import GroupShuffleSplit\n",
    "from pydicom import dcmread\n",
    "import glob\n",
    "import pickle\n",
    "import scipy\n",
    "from efficientnet_pytorch import EfficientNet\n",
    "from datetime import datetime\n",
    "seed = 10\n",
    "np.random.seed(seed)\n",
    "random.seed(seed)\n",
    "os.environ['PYTHONHASHSEED'] = str(seed)"
   ]
  },
  {
   "cell_type": "code",
   "execution_count": 2,
   "metadata": {},
   "outputs": [],
   "source": [
    "dataDF = pd.read_csv('forTrainingDataFold.csv', dtype={'StudyInstanceUID': 'string', 'SeriesInstanceUID':'string', 'SOPInstanceUID':'string'})\n",
    "dataDF = dataDF.set_index('SOPInstanceUID')"
   ]
  },
  {
   "cell_type": "code",
   "execution_count": 3,
   "metadata": {},
   "outputs": [
    {
     "data": {
      "text/html": [
       "<div>\n",
       "<style scoped>\n",
       "    .dataframe tbody tr th:only-of-type {\n",
       "        vertical-align: middle;\n",
       "    }\n",
       "\n",
       "    .dataframe tbody tr th {\n",
       "        vertical-align: top;\n",
       "    }\n",
       "\n",
       "    .dataframe thead th {\n",
       "        text-align: right;\n",
       "    }\n",
       "</style>\n",
       "<table border=\"1\" class=\"dataframe\">\n",
       "  <thead>\n",
       "    <tr style=\"text-align: right;\">\n",
       "      <th></th>\n",
       "      <th>StudyInstanceUID</th>\n",
       "      <th>SeriesInstanceUID</th>\n",
       "      <th>pe_present_on_image</th>\n",
       "      <th>acute</th>\n",
       "      <th>chronic</th>\n",
       "      <th>leftsided_pe</th>\n",
       "      <th>rightsided_pe</th>\n",
       "      <th>central_pe</th>\n",
       "      <th>rv_lv_ratio_gte_1</th>\n",
       "      <th>rv_lv_ratio_lt_1</th>\n",
       "      <th>...</th>\n",
       "      <th>qa_contrast</th>\n",
       "      <th>flow_artifact</th>\n",
       "      <th>true_filling_defect_not_pe</th>\n",
       "      <th>negative_exam_for_pe</th>\n",
       "      <th>chronic_pe</th>\n",
       "      <th>acute_and_chronic_pe</th>\n",
       "      <th>indeterminate</th>\n",
       "      <th>img_pos</th>\n",
       "      <th>patient_position</th>\n",
       "      <th>fold</th>\n",
       "    </tr>\n",
       "    <tr>\n",
       "      <th>SOPInstanceUID</th>\n",
       "      <th></th>\n",
       "      <th></th>\n",
       "      <th></th>\n",
       "      <th></th>\n",
       "      <th></th>\n",
       "      <th></th>\n",
       "      <th></th>\n",
       "      <th></th>\n",
       "      <th></th>\n",
       "      <th></th>\n",
       "      <th></th>\n",
       "      <th></th>\n",
       "      <th></th>\n",
       "      <th></th>\n",
       "      <th></th>\n",
       "      <th></th>\n",
       "      <th></th>\n",
       "      <th></th>\n",
       "      <th></th>\n",
       "      <th></th>\n",
       "      <th></th>\n",
       "    </tr>\n",
       "  </thead>\n",
       "  <tbody>\n",
       "    <tr>\n",
       "      <th>c0f3cb036d06</th>\n",
       "      <td>6897fa9de148</td>\n",
       "      <td>2bfbb7fd2e8b</td>\n",
       "      <td>0</td>\n",
       "      <td>1</td>\n",
       "      <td>0</td>\n",
       "      <td>1</td>\n",
       "      <td>1</td>\n",
       "      <td>0</td>\n",
       "      <td>0</td>\n",
       "      <td>1</td>\n",
       "      <td>...</td>\n",
       "      <td>0</td>\n",
       "      <td>0</td>\n",
       "      <td>0</td>\n",
       "      <td>0</td>\n",
       "      <td>0</td>\n",
       "      <td>0</td>\n",
       "      <td>0</td>\n",
       "      <td>-234.5</td>\n",
       "      <td>HFS</td>\n",
       "      <td>3</td>\n",
       "    </tr>\n",
       "    <tr>\n",
       "      <th>f57ffd3883b6</th>\n",
       "      <td>6897fa9de148</td>\n",
       "      <td>2bfbb7fd2e8b</td>\n",
       "      <td>0</td>\n",
       "      <td>1</td>\n",
       "      <td>0</td>\n",
       "      <td>1</td>\n",
       "      <td>1</td>\n",
       "      <td>0</td>\n",
       "      <td>0</td>\n",
       "      <td>1</td>\n",
       "      <td>...</td>\n",
       "      <td>0</td>\n",
       "      <td>0</td>\n",
       "      <td>0</td>\n",
       "      <td>0</td>\n",
       "      <td>0</td>\n",
       "      <td>0</td>\n",
       "      <td>0</td>\n",
       "      <td>-252.5</td>\n",
       "      <td>HFS</td>\n",
       "      <td>3</td>\n",
       "    </tr>\n",
       "    <tr>\n",
       "      <th>41220fda34a3</th>\n",
       "      <td>6897fa9de148</td>\n",
       "      <td>2bfbb7fd2e8b</td>\n",
       "      <td>0</td>\n",
       "      <td>1</td>\n",
       "      <td>0</td>\n",
       "      <td>1</td>\n",
       "      <td>1</td>\n",
       "      <td>0</td>\n",
       "      <td>0</td>\n",
       "      <td>1</td>\n",
       "      <td>...</td>\n",
       "      <td>0</td>\n",
       "      <td>0</td>\n",
       "      <td>0</td>\n",
       "      <td>0</td>\n",
       "      <td>0</td>\n",
       "      <td>0</td>\n",
       "      <td>0</td>\n",
       "      <td>-432.5</td>\n",
       "      <td>HFS</td>\n",
       "      <td>3</td>\n",
       "    </tr>\n",
       "    <tr>\n",
       "      <th>13b685b4b14f</th>\n",
       "      <td>6897fa9de148</td>\n",
       "      <td>2bfbb7fd2e8b</td>\n",
       "      <td>0</td>\n",
       "      <td>1</td>\n",
       "      <td>0</td>\n",
       "      <td>1</td>\n",
       "      <td>1</td>\n",
       "      <td>0</td>\n",
       "      <td>0</td>\n",
       "      <td>1</td>\n",
       "      <td>...</td>\n",
       "      <td>0</td>\n",
       "      <td>0</td>\n",
       "      <td>0</td>\n",
       "      <td>0</td>\n",
       "      <td>0</td>\n",
       "      <td>0</td>\n",
       "      <td>0</td>\n",
       "      <td>-434.5</td>\n",
       "      <td>HFS</td>\n",
       "      <td>3</td>\n",
       "    </tr>\n",
       "    <tr>\n",
       "      <th>be0b7524ffb4</th>\n",
       "      <td>6897fa9de148</td>\n",
       "      <td>2bfbb7fd2e8b</td>\n",
       "      <td>0</td>\n",
       "      <td>1</td>\n",
       "      <td>0</td>\n",
       "      <td>1</td>\n",
       "      <td>1</td>\n",
       "      <td>0</td>\n",
       "      <td>0</td>\n",
       "      <td>1</td>\n",
       "      <td>...</td>\n",
       "      <td>0</td>\n",
       "      <td>0</td>\n",
       "      <td>0</td>\n",
       "      <td>0</td>\n",
       "      <td>0</td>\n",
       "      <td>0</td>\n",
       "      <td>0</td>\n",
       "      <td>-436.5</td>\n",
       "      <td>HFS</td>\n",
       "      <td>3</td>\n",
       "    </tr>\n",
       "  </tbody>\n",
       "</table>\n",
       "<p>5 rows × 21 columns</p>\n",
       "</div>"
      ],
      "text/plain": [
       "               StudyInstanceUID SeriesInstanceUID  pe_present_on_image  acute  \\\n",
       "SOPInstanceUID                                                                  \n",
       "c0f3cb036d06       6897fa9de148      2bfbb7fd2e8b                    0      1   \n",
       "f57ffd3883b6       6897fa9de148      2bfbb7fd2e8b                    0      1   \n",
       "41220fda34a3       6897fa9de148      2bfbb7fd2e8b                    0      1   \n",
       "13b685b4b14f       6897fa9de148      2bfbb7fd2e8b                    0      1   \n",
       "be0b7524ffb4       6897fa9de148      2bfbb7fd2e8b                    0      1   \n",
       "\n",
       "                chronic  leftsided_pe  rightsided_pe  central_pe  \\\n",
       "SOPInstanceUID                                                     \n",
       "c0f3cb036d06          0             1              1           0   \n",
       "f57ffd3883b6          0             1              1           0   \n",
       "41220fda34a3          0             1              1           0   \n",
       "13b685b4b14f          0             1              1           0   \n",
       "be0b7524ffb4          0             1              1           0   \n",
       "\n",
       "                rv_lv_ratio_gte_1  rv_lv_ratio_lt_1  ...  qa_contrast  \\\n",
       "SOPInstanceUID                                       ...                \n",
       "c0f3cb036d06                    0                 1  ...            0   \n",
       "f57ffd3883b6                    0                 1  ...            0   \n",
       "41220fda34a3                    0                 1  ...            0   \n",
       "13b685b4b14f                    0                 1  ...            0   \n",
       "be0b7524ffb4                    0                 1  ...            0   \n",
       "\n",
       "                flow_artifact  true_filling_defect_not_pe  \\\n",
       "SOPInstanceUID                                              \n",
       "c0f3cb036d06                0                           0   \n",
       "f57ffd3883b6                0                           0   \n",
       "41220fda34a3                0                           0   \n",
       "13b685b4b14f                0                           0   \n",
       "be0b7524ffb4                0                           0   \n",
       "\n",
       "                negative_exam_for_pe  chronic_pe  acute_and_chronic_pe  \\\n",
       "SOPInstanceUID                                                           \n",
       "c0f3cb036d06                       0           0                     0   \n",
       "f57ffd3883b6                       0           0                     0   \n",
       "41220fda34a3                       0           0                     0   \n",
       "13b685b4b14f                       0           0                     0   \n",
       "be0b7524ffb4                       0           0                     0   \n",
       "\n",
       "                indeterminate  img_pos  patient_position fold  \n",
       "SOPInstanceUID                                                 \n",
       "c0f3cb036d06                0   -234.5               HFS    3  \n",
       "f57ffd3883b6                0   -252.5               HFS    3  \n",
       "41220fda34a3                0   -432.5               HFS    3  \n",
       "13b685b4b14f                0   -434.5               HFS    3  \n",
       "be0b7524ffb4                0   -436.5               HFS    3  \n",
       "\n",
       "[5 rows x 21 columns]"
      ]
     },
     "execution_count": 3,
     "metadata": {},
     "output_type": "execute_result"
    }
   ],
   "source": [
    "dataDF.head()"
   ]
  },
  {
   "cell_type": "code",
   "execution_count": 4,
   "metadata": {},
   "outputs": [
    {
     "name": "stdout",
     "output_type": "stream",
     "text": [
      "6897fa9de148\n",
      "SOPInstanceUID\n",
      "c0f3cb036d06   -234.5\n",
      "9e712b4d09a4   -236.5\n",
      "d62e15417d41   -238.5\n",
      "2a52ff46886c   -240.5\n",
      "f8c32ebbf29a   -242.5\n",
      "8bd638f6b65e   -244.5\n",
      "5b8e6d8c26e6   -246.5\n",
      "d9d5081f6ee8   -248.5\n",
      "41984269c2ff   -250.5\n",
      "f57ffd3883b6   -252.5\n",
      "7496a1354775   -254.5\n",
      "22fb80615fff   -256.5\n",
      "c1fcb8dfa2d1   -258.5\n",
      "2641adc29b84   -260.5\n",
      "965e94785415   -262.5\n",
      "a787ce664744   -264.5\n",
      "b9c1845f4b9a   -266.5\n",
      "ab994ef19adb   -268.5\n",
      "f4594a785591   -270.5\n",
      "822dd7790999   -272.5\n",
      "04cb74d5008c   -274.5\n",
      "148dfe893a66   -276.5\n",
      "26fbb2a74642   -278.5\n",
      "e93fc07d70a3   -280.5\n",
      "53d9f36c01c3   -282.5\n",
      "da97c4b2cc9c   -284.5\n",
      "925fa5a0923e   -286.5\n",
      "c89fbed94e97   -288.5\n",
      "3338c96871be   -290.5\n",
      "e8e41d4ae094   -292.5\n",
      "27c48c3ac49e   -294.5\n",
      "b973b5ef07f5   -296.5\n",
      "a098c6594df8   -298.5\n",
      "b5e4babf2887   -300.5\n",
      "1f1a8108891c   -302.5\n",
      "9b599fd58996   -304.5\n",
      "ec62413321d3   -306.5\n",
      "09bfdbc349e5   -308.5\n",
      "5edaf0e45844   -310.5\n",
      "d10f967890c7   -312.5\n",
      "bbac9d6fe07a   -314.5\n",
      "44135d227780   -316.5\n",
      "9a83c7356ba8   -318.5\n",
      "c1a5538bba20   -320.5\n",
      "fd9db7e0cffe   -322.5\n",
      "1f108fe8cae4   -324.5\n",
      "9a9750e671c2   -326.5\n",
      "68b29a42a6eb   -328.5\n",
      "3806459893c7   -330.5\n",
      "87745278393f   -332.5\n",
      "ff99241baf1b   -334.5\n",
      "22e53defeb2b   -336.5\n",
      "dcc081dc712d   -338.5\n",
      "2ff8ee9ae8f9   -340.5\n",
      "2a6b4c0ef0e5   -342.5\n",
      "21c2645ae16d   -344.5\n",
      "cef0f36a062e   -346.5\n",
      "4fab8823ee67   -348.5\n",
      "8ecdaefbe277   -350.5\n",
      "7f68dbfa86f8   -352.5\n",
      "6e4ec3a3aea3   -354.5\n",
      "7b453ea95910   -356.5\n",
      "7422fa158ba4   -358.5\n",
      "e08efa7c611a   -360.5\n",
      "3049720db212   -362.5\n",
      "6a161860fd7e   -364.5\n",
      "70745a380063   -366.5\n",
      "4c56afef1910   -368.5\n",
      "8df948805448   -370.5\n",
      "eb0dfdee0c03   -372.5\n",
      "e4a32a45c76d   -374.5\n",
      "9e00c172291d   -376.5\n",
      "8932a6656d1e   -378.5\n",
      "47b21d2a99db   -380.5\n",
      "bf11f45d4c26   -382.5\n",
      "8d19499c330c   -384.5\n",
      "559ac3d40184   -386.5\n",
      "57b52d5494a3   -388.5\n",
      "b1f563f7ab7f   -390.5\n",
      "d9a42da6c36f   -392.5\n",
      "e860b11c49e1   -394.5\n",
      "ddfbf82a1fa0   -396.5\n",
      "d78e1203fde1   -398.5\n",
      "b0ad39d603b3   -400.5\n",
      "031618cba689   -402.5\n",
      "ff02f3468f41   -404.5\n",
      "510d381a11c7   -406.5\n",
      "222f0e7e64af   -408.5\n",
      "9c2cdfff8abc   -410.5\n",
      "11449e662c07   -412.5\n",
      "0de5072ee990   -414.5\n",
      "726aec3373a4   -416.5\n",
      "7b0018a6d3b2   -418.5\n",
      "d2253e773f05   -420.5\n",
      "1fa18364e089   -422.5\n",
      "ee19a5f9a850   -424.5\n",
      "c9dfdd668a12   -426.5\n",
      "622e6f6ec380   -428.5\n",
      "947f931d8855   -430.5\n",
      "41220fda34a3   -432.5\n",
      "13b685b4b14f   -434.5\n",
      "be0b7524ffb4   -436.5\n",
      "c7b99cb454d4   -438.5\n",
      "e153deb813ed   -440.5\n",
      "c6bbe08f2736   -442.5\n",
      "09886998dc28   -444.5\n",
      "5b5226ac7bac   -446.5\n",
      "78697da18453   -448.5\n",
      "c700fff0e075   -450.5\n",
      "e20558ae2491   -452.5\n",
      "f3c48d34f5db   -454.5\n",
      "243611e7633b   -456.5\n",
      "d9e3d9934410   -458.5\n",
      "945e7e32955c   -460.5\n",
      "2c8ed843c858   -462.5\n",
      "db937353ea10   -464.5\n",
      "bc1390934263   -466.5\n",
      "4f03aef72206   -468.5\n",
      "5fe975eb5ce9   -470.5\n",
      "487d9ab5531f   -472.5\n",
      "c6f29ac6659b   -474.5\n",
      "1997c99c9d59   -476.5\n",
      "52b6b0b793bb   -478.5\n",
      "baedb900c69c   -480.5\n",
      "Name: img_pos, dtype: float64\n"
     ]
    }
   ],
   "source": [
    "# Sanity Check\n",
    "listOfStudyIDs = dataDF['StudyInstanceUID'].unique()\n",
    "\n",
    "eachStudyID = listOfStudyIDs[0]\n",
    "print(eachStudyID)\n",
    "eachStudyDF = dataDF[dataDF['StudyInstanceUID']==eachStudyID]\n",
    "sortedStudyDF = eachStudyDF.sort_values(by=['img_pos'], ascending=False)\n",
    "\n",
    "pd.set_option('display.max_rows',None)\n",
    "print(sortedStudyDF['img_pos'])\n",
    "\n",
    "sortedList = sortedStudyDF['img_pos'].index.to_list()"
   ]
  },
  {
   "cell_type": "markdown",
   "metadata": {},
   "source": [
    "# load model +/- modifying it to extract features"
   ]
  },
  {
   "cell_type": "code",
   "execution_count": 5,
   "metadata": {},
   "outputs": [
    {
     "name": "stdout",
     "output_type": "stream",
     "text": [
      "CNNmodel_01_epoch1_CV4_20201008_2252\n"
     ]
    }
   ],
   "source": [
    "modelPath = 'models/CNNmodel/CNNmodel_01_epoch1_CV4_20201008_2252.pth'\n",
    "modelName = modelPath.split('/')[-1][:-4]\n",
    "print(modelName)\n",
    "#model = torch.load(modelPath)\n",
    "#print(model)"
   ]
  },
  {
   "cell_type": "code",
   "execution_count": null,
   "metadata": {
    "scrolled": false
   },
   "outputs": [],
   "source": [
    "#model.fc = nn.Sequential(*list(model.fc.children())[:-2])\n",
    "#print(model)"
   ]
  },
  {
   "cell_type": "code",
   "execution_count": null,
   "metadata": {},
   "outputs": [],
   "source": [
    "#embedderModelPath = modelPath[:-4]+'_embedder.pth'\n",
    "#torch.save(model,embedderModelPath)"
   ]
  },
  {
   "cell_type": "code",
   "execution_count": 6,
   "metadata": {},
   "outputs": [],
   "source": [
    "model = torch.load('models/CNNmodel/CNNmodel_01_epoch1_CV4_20201008_2252_embedder.pth')"
   ]
  },
  {
   "cell_type": "code",
   "execution_count": 7,
   "metadata": {},
   "outputs": [],
   "source": [
    "# Construct path mapping dict for jpg files \n",
    "listOfDCMfiles = glob.glob('data/train/*/*/*.dcm')\n",
    "\n",
    "imageID2pathDict = {}\n",
    "\n",
    "for eachPath in listOfDCMfiles:\n",
    "    imageID = eachPath.split('/')[-1][:-4]\n",
    "    imageID2pathDict[imageID] = eachPath"
   ]
  },
  {
   "cell_type": "code",
   "execution_count": 8,
   "metadata": {},
   "outputs": [
    {
     "name": "stdout",
     "output_type": "stream",
     "text": [
      "1790594\n"
     ]
    }
   ],
   "source": [
    "listOfImageID = list(imageID2pathDict.keys())\n",
    "print(len(listOfImageID))"
   ]
  },
  {
   "cell_type": "code",
   "execution_count": 9,
   "metadata": {},
   "outputs": [],
   "source": [
    "# helper functions\n",
    "\n",
    "def window(img, WL=50, WW=350):\n",
    "    upper, lower = WL+WW//2, WL-WW//2\n",
    "    X = np.clip(img.copy(), lower, upper)\n",
    "    X = X - np.min(X)\n",
    "    X = X / np.max(X)\n",
    "    X = (X*255.0).astype('uint8')\n",
    "    return X\n",
    "\n",
    "data_transform = transforms.Compose([\n",
    "        transforms.ToTensor(),\n",
    "        transforms.Normalize(mean=[0.485, 0.456, 0.406],\n",
    "                             std=[0.229, 0.224, 0.225])\n",
    "    ])\n",
    "\n",
    "def get_augmentation(numImages=0):\n",
    "    train_transform = [\n",
    "        albu.ShiftScaleRotate(scale_limit=0.05, rotate_limit=30, shift_limit=0.05, p=1, border_mode=0),\n",
    "        albu.IAAAdditiveGaussianNoise(p=0.1),\n",
    "        albu.IAAPerspective(p=0.2),\n",
    "\n",
    "        albu.OneOf(\n",
    "            [\n",
    "                albu.CLAHE(p=1),\n",
    "                albu.RandomBrightness(p=1),\n",
    "                albu.RandomGamma(p=1),\n",
    "            ],\n",
    "            p=0.3,\n",
    "        ),\n",
    "\n",
    "        albu.OneOf(\n",
    "            [\n",
    "                albu.IAASharpen(p=1),\n",
    "                albu.Blur(blur_limit=3, p=1),\n",
    "                albu.MotionBlur(blur_limit=3, p=1),\n",
    "            ],\n",
    "            p=0.3,\n",
    "        ),\n",
    "\n",
    "        albu.OneOf(\n",
    "            [\n",
    "                albu.RandomContrast(p=1),\n",
    "                albu.HueSaturationValue(p=1),\n",
    "            ],\n",
    "            p=0.3,\n",
    "        ),\n",
    "    ]\n",
    "    return albu.Compose(train_transform)\n",
    "\n",
    "def augmentAll(myImages):\n",
    "    declareTargets = {'image{}'.format(index):'image' for index in range(len(myImages))}\n",
    "    addnTargets = {'image{}'.format(index):image for index, image in enumerate(myImages)}\n",
    "    addnTargets['image'] = myImages[0]\n",
    "    myAug = albu.Compose(transforms=get_augmentation(), additional_targets=declareTargets)\n",
    "    augmented = myAug(**addnTargets)\n",
    "    augmentedImages = [augmented['image{}'.format(index)] for index in range(len(myImages))]\n",
    "    return augmentedImages\n",
    "\n",
    "# Helper functions for inference\n",
    "def dcmToImage(imageID):\n",
    "    dcm_data = dcmread(imageID2pathDict[imageID])\n",
    "    image = dcm_data.pixel_array * int(dcm_data.RescaleSlope) + int(dcm_data.RescaleIntercept)\n",
    "    image = np.stack([window(image, WL=-600, WW=1500),\n",
    "                    window(image, WL=40, WW=400),\n",
    "                    window(image, WL=100, WW=700)], 2)\n",
    "    #image = image.astype(np.float32)\n",
    "    return image\n",
    "\n",
    "def chunks(lst, n):\n",
    "    \"\"\"Yield successive n-sized chunks from lst.\"\"\"\n",
    "    for i in range(0, len(lst), n):\n",
    "        yield lst[i:i + n]"
   ]
  },
  {
   "cell_type": "code",
   "execution_count": 10,
   "metadata": {},
   "outputs": [],
   "source": [
    "model = model.cuda()\n",
    "model = model.eval()"
   ]
  },
  {
   "cell_type": "code",
   "execution_count": 11,
   "metadata": {},
   "outputs": [],
   "source": [
    "def createEmbeddings(embeddingDirPath=None, augment=False):\n",
    "    if not os.path.exists(embeddingSaveDir):\n",
    "        os.makedirs(embeddingSaveDir)\n",
    "\n",
    "    for eachStudyID in tqdm(listOfStudyIDs):\n",
    "        eachStudyDF = dataDF[dataDF['StudyInstanceUID']==eachStudyID]\n",
    "        sortedStudyDF = eachStudyDF.sort_values(by=['img_pos'], ascending=False)\n",
    "        sortedList = sortedStudyDF['img_pos'].index.to_list()\n",
    "\n",
    "        with torch.no_grad():\n",
    "            embeddingVolume = []\n",
    "            sortedImages = [dcmToImage(eachImageID) for eachImageID in sortedList]\n",
    "            if augment == True:\n",
    "                sortedImages = augmentAll(sortedImages)\n",
    "            sortedImages = [eachImage.astype(np.float32) for eachImage in sortedImages]\n",
    "            listOfTensors = [data_transform(eachImage) for eachImage in sortedImages]\n",
    "\n",
    "            tensorChunkIterator = chunks(listOfTensors,128)\n",
    "            \n",
    "            embeddingList = []\n",
    "            for eachChunk in tensorChunkIterator:\n",
    "                stackedChunk = torch.stack(eachChunk, dim=0, out=None)\n",
    "                stackedChunk = stackedChunk.cuda()\n",
    "                embedding = model(stackedChunk)\n",
    "                embeddingList.append(embedding)\n",
    "            embeddingVol = torch.cat(embeddingList, dim=0)\n",
    "            embeddingVol = embeddingVol.cpu().detach().numpy()\n",
    "            \n",
    "            dictToSave = {'ids':sortedList, 'embeddings':embeddingVol}\n",
    "            pickle.dump(dictToSave, open(embeddingSaveDir+'/'+eachStudyID+'.p','wb'))"
   ]
  },
  {
   "cell_type": "code",
   "execution_count": 12,
   "metadata": {},
   "outputs": [
    {
     "data": {
      "application/vnd.jupyter.widget-view+json": {
       "model_id": "fff39b3b10ea40baaada4cb73c08f94a",
       "version_major": 2,
       "version_minor": 0
      },
      "text/plain": [
       "HBox(children=(FloatProgress(value=0.0, max=7279.0), HTML(value='')))"
      ]
     },
     "metadata": {},
     "output_type": "display_data"
    },
    {
     "name": "stdout",
     "output_type": "stream",
     "text": [
      "\n"
     ]
    },
    {
     "data": {
      "application/vnd.jupyter.widget-view+json": {
       "model_id": "83bc4acd282f4b19927212f8deec0d0e",
       "version_major": 2,
       "version_minor": 0
      },
      "text/plain": [
       "HBox(children=(FloatProgress(value=0.0, max=7279.0), HTML(value='')))"
      ]
     },
     "metadata": {},
     "output_type": "display_data"
    },
    {
     "name": "stdout",
     "output_type": "stream",
     "text": [
      "\n"
     ]
    },
    {
     "data": {
      "application/vnd.jupyter.widget-view+json": {
       "model_id": "52e1189fcf7f4dc2bce48f6a6d74c8dc",
       "version_major": 2,
       "version_minor": 0
      },
      "text/plain": [
       "HBox(children=(FloatProgress(value=0.0, max=7279.0), HTML(value='')))"
      ]
     },
     "metadata": {},
     "output_type": "display_data"
    },
    {
     "name": "stdout",
     "output_type": "stream",
     "text": [
      "\n"
     ]
    },
    {
     "data": {
      "application/vnd.jupyter.widget-view+json": {
       "model_id": "13ed3682afea40a59dadf313f5e80cc7",
       "version_major": 2,
       "version_minor": 0
      },
      "text/plain": [
       "HBox(children=(FloatProgress(value=0.0, max=7279.0), HTML(value='')))"
      ]
     },
     "metadata": {},
     "output_type": "display_data"
    },
    {
     "name": "stdout",
     "output_type": "stream",
     "text": [
      "\n"
     ]
    },
    {
     "data": {
      "application/vnd.jupyter.widget-view+json": {
       "model_id": "e5e6826833ad45cc8bd06d17ac5ab70e",
       "version_major": 2,
       "version_minor": 0
      },
      "text/plain": [
       "HBox(children=(FloatProgress(value=0.0, max=7279.0), HTML(value='')))"
      ]
     },
     "metadata": {},
     "output_type": "display_data"
    },
    {
     "name": "stdout",
     "output_type": "stream",
     "text": [
      "\n"
     ]
    }
   ],
   "source": [
    "for eachIndex in range(5):\n",
    "    embeddingSaveDir = 'data/embeddings/' + modelName + '/aug'+str(eachIndex).zfill(2)\n",
    "    if not os.path.exists(embeddingSaveDir):\n",
    "        os.makedirs(embeddingSaveDir)\n",
    "    createEmbeddings(embeddingSaveDir,augment=True)"
   ]
  },
  {
   "cell_type": "code",
   "execution_count": null,
   "metadata": {},
   "outputs": [],
   "source": []
  },
  {
   "cell_type": "code",
   "execution_count": null,
   "metadata": {},
   "outputs": [],
   "source": []
  },
  {
   "cell_type": "code",
   "execution_count": null,
   "metadata": {},
   "outputs": [],
   "source": []
  },
  {
   "cell_type": "markdown",
   "metadata": {},
   "source": [
    "# scrap codes"
   ]
  },
  {
   "cell_type": "code",
   "execution_count": null,
   "metadata": {},
   "outputs": [],
   "source": [
    "# Sanity Check\n",
    "\n",
    "myEmbedding = pickle.load(open('data/embeddings/CNNmodel_01_epoch1_CV4_20201008_2252/val/6897fa9de148.p','rb'))"
   ]
  },
  {
   "cell_type": "code",
   "execution_count": null,
   "metadata": {},
   "outputs": [],
   "source": [
    "myEmbedding['embeddings'].shape"
   ]
  },
  {
   "cell_type": "code",
   "execution_count": null,
   "metadata": {},
   "outputs": [],
   "source": [
    "embeddingSaveDir = 'data/embeddings/CNNmodel_01_epoch1_20201005_1533/val/'\n",
    "\n",
    "for eachStudyID in tqdm(listOfStudyIDs):\n",
    "    eachStudyDF = dataDF[dataDF['StudyInstanceUID']==eachStudyID]\n",
    "    sortedStudyDF = eachStudyDF.sort_values(by=['img_pos'], ascending=False)\n",
    "    sortedList = sortedStudyDF['img_pos'].index.to_list()\n",
    "\n",
    "    with torch.no_grad():\n",
    "        embeddingVolume = []\n",
    "        for eachImageID in sortedList:\n",
    "            dcm_data = dcmread(imageID2pathDict[eachImageID])\n",
    "            image = dcm_data.pixel_array * int(dcm_data.RescaleSlope) + int(dcm_data.RescaleIntercept)\n",
    "            image = np.stack([window(image, WL=-600, WW=1500),\n",
    "                            window(image, WL=40, WW=400),\n",
    "                            window(image, WL=100, WW=700)], 2)\n",
    "            image = image.astype(np.float32)\n",
    "            image = data_transform(image)\n",
    "            image = image.cuda()\n",
    "            toPred = image.unsqueeze(0)\n",
    "            embedding = model(toPred)\n",
    "            embedding = embedding.detach().cpu().numpy()[0]\n",
    "            embeddingVolume.append(embedding)\n",
    "            dictToSave = {'ids':sortedList, 'embeddings':embeddingVolume}\n",
    "            pickle.dump(dictToSave, open(embeddingSaveDir+eachStudyID+'.p','wb'))"
   ]
  },
  {
   "cell_type": "code",
   "execution_count": null,
   "metadata": {},
   "outputs": [],
   "source": [
    "# Sanity Check\n",
    "# embeddingDict = pickle.load(open(embeddingSaveDir+eachStudyID+'.p','rb'))\n",
    "# print(embeddingDict)"
   ]
  }
 ],
 "metadata": {
  "kernelspec": {
   "display_name": "pyTorchEnv37",
   "language": "python",
   "name": "pytorchenv37"
  },
  "language_info": {
   "codemirror_mode": {
    "name": "ipython",
    "version": 3
   },
   "file_extension": ".py",
   "mimetype": "text/x-python",
   "name": "python",
   "nbconvert_exporter": "python",
   "pygments_lexer": "ipython3",
   "version": "3.7.9"
  }
 },
 "nbformat": 4,
 "nbformat_minor": 4
}
