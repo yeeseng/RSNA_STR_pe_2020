{
 "cells": [
  {
   "cell_type": "code",
   "execution_count": 1,
   "metadata": {},
   "outputs": [],
   "source": [
    "# PyTorch Modules\n",
    "import torch\n",
    "import torch.nn as nn\n",
    "from torch.utils.data import Dataset, DataLoader\n",
    "import torch.optim as optim\n",
    "import torch.nn.functional as F\n",
    "\n",
    "import torchvision\n",
    "from torchvision import models\n",
    "from torchvision import transforms\n",
    "import torchvision.transforms as transforms\n",
    "import torchvision.datasets as dsets\n",
    "\n",
    "# Other non-PyTorch Modules\n",
    "import numpy as np\n",
    "import matplotlib.pyplot as plt\n",
    "import pandas as pd\n",
    "from tqdm import tqdm\n",
    "from matplotlib.pyplot import imshow\n",
    "import matplotlib.pylab as plt\n",
    "from PIL import Image\n",
    "import time\n",
    "from datetime import datetime\n",
    "import pickle\n",
    "import json\n",
    "import random"
   ]
  },
  {
   "cell_type": "code",
   "execution_count": 2,
   "metadata": {},
   "outputs": [],
   "source": [
    "torch.cuda.empty_cache()"
   ]
  },
  {
   "cell_type": "code",
   "execution_count": 3,
   "metadata": {},
   "outputs": [
    {
     "name": "stdout",
     "output_type": "stream",
     "text": [
      "20201020_1319\n"
     ]
    }
   ],
   "source": [
    "now = datetime.now()\n",
    "DATESTRING = now.strftime(\"%Y%m%d_%H%M\")\n",
    "print(DATESTRING)"
   ]
  },
  {
   "cell_type": "code",
   "execution_count": 4,
   "metadata": {},
   "outputs": [],
   "source": [
    "dataDF = pd.read_csv('data_fold.csv')\n",
    "dataDF = dataDF.set_index('SOPInstanceUID')"
   ]
  },
  {
   "cell_type": "code",
   "execution_count": 5,
   "metadata": {},
   "outputs": [
    {
     "data": {
      "text/plain": [
       "Index(['StudyInstanceUID', 'SeriesInstanceUID', 'pe_present_on_image',\n",
       "       'negative_exam_for_pe', 'qa_motion', 'qa_contrast', 'flow_artifact',\n",
       "       'rv_lv_ratio_gte_1', 'rv_lv_ratio_lt_1', 'leftsided_pe', 'chronic_pe',\n",
       "       'true_filling_defect_not_pe', 'rightsided_pe', 'acute_and_chronic_pe',\n",
       "       'central_pe', 'indeterminate', 'window_center', 'window_width',\n",
       "       'intercept', 'slope', 'slice_thickness', 'kvp', 'ma', 'exposure',\n",
       "       'img_pos', 'conv_kernel', 'patient_position', 'pixel_spacing',\n",
       "       'bits_stored', 'high_bit', 'img_count', 'fold'],\n",
       "      dtype='object')"
      ]
     },
     "execution_count": 5,
     "metadata": {},
     "output_type": "execute_result"
    }
   ],
   "source": [
    "dataDF.columns"
   ]
  },
  {
   "cell_type": "code",
   "execution_count": 6,
   "metadata": {},
   "outputs": [],
   "source": [
    "dataDF = dataDF.reindex(columns=['StudyInstanceUID', 'SeriesInstanceUID', 'pe_present_on_image', 'negative_exam_for_pe',\n",
    "                       'indeterminate', 'chronic_pe', 'acute_and_chronic_pe', 'central_pe', 'leftsided_pe',\n",
    "                       'rightsided_pe', 'rv_lv_ratio_gte_1', 'rv_lv_ratio_lt_1','fold','img_pos','patient_position',\n",
    "                       'intercept', 'slope'])                  "
   ]
  },
  {
   "cell_type": "code",
   "execution_count": 7,
   "metadata": {
    "scrolled": false
   },
   "outputs": [
    {
     "data": {
      "text/html": [
       "<div>\n",
       "<style scoped>\n",
       "    .dataframe tbody tr th:only-of-type {\n",
       "        vertical-align: middle;\n",
       "    }\n",
       "\n",
       "    .dataframe tbody tr th {\n",
       "        vertical-align: top;\n",
       "    }\n",
       "\n",
       "    .dataframe thead th {\n",
       "        text-align: right;\n",
       "    }\n",
       "</style>\n",
       "<table border=\"1\" class=\"dataframe\">\n",
       "  <thead>\n",
       "    <tr style=\"text-align: right;\">\n",
       "      <th></th>\n",
       "      <th>StudyInstanceUID</th>\n",
       "      <th>SeriesInstanceUID</th>\n",
       "      <th>pe_present_on_image</th>\n",
       "      <th>negative_exam_for_pe</th>\n",
       "      <th>indeterminate</th>\n",
       "      <th>chronic_pe</th>\n",
       "      <th>acute_and_chronic_pe</th>\n",
       "      <th>central_pe</th>\n",
       "      <th>leftsided_pe</th>\n",
       "      <th>rightsided_pe</th>\n",
       "      <th>rv_lv_ratio_gte_1</th>\n",
       "      <th>rv_lv_ratio_lt_1</th>\n",
       "      <th>fold</th>\n",
       "      <th>img_pos</th>\n",
       "      <th>patient_position</th>\n",
       "      <th>intercept</th>\n",
       "      <th>slope</th>\n",
       "    </tr>\n",
       "    <tr>\n",
       "      <th>SOPInstanceUID</th>\n",
       "      <th></th>\n",
       "      <th></th>\n",
       "      <th></th>\n",
       "      <th></th>\n",
       "      <th></th>\n",
       "      <th></th>\n",
       "      <th></th>\n",
       "      <th></th>\n",
       "      <th></th>\n",
       "      <th></th>\n",
       "      <th></th>\n",
       "      <th></th>\n",
       "      <th></th>\n",
       "      <th></th>\n",
       "      <th></th>\n",
       "      <th></th>\n",
       "      <th></th>\n",
       "    </tr>\n",
       "  </thead>\n",
       "  <tbody>\n",
       "    <tr>\n",
       "      <th>c0f3cb036d06</th>\n",
       "      <td>6897fa9de148</td>\n",
       "      <td>2bfbb7fd2e8b</td>\n",
       "      <td>0</td>\n",
       "      <td>0</td>\n",
       "      <td>0</td>\n",
       "      <td>0</td>\n",
       "      <td>0</td>\n",
       "      <td>0</td>\n",
       "      <td>1</td>\n",
       "      <td>1</td>\n",
       "      <td>0</td>\n",
       "      <td>1</td>\n",
       "      <td>3</td>\n",
       "      <td>-234.5</td>\n",
       "      <td>HFS</td>\n",
       "      <td>-1024</td>\n",
       "      <td>1</td>\n",
       "    </tr>\n",
       "    <tr>\n",
       "      <th>f57ffd3883b6</th>\n",
       "      <td>6897fa9de148</td>\n",
       "      <td>2bfbb7fd2e8b</td>\n",
       "      <td>0</td>\n",
       "      <td>0</td>\n",
       "      <td>0</td>\n",
       "      <td>0</td>\n",
       "      <td>0</td>\n",
       "      <td>0</td>\n",
       "      <td>1</td>\n",
       "      <td>1</td>\n",
       "      <td>0</td>\n",
       "      <td>1</td>\n",
       "      <td>3</td>\n",
       "      <td>-252.5</td>\n",
       "      <td>HFS</td>\n",
       "      <td>-1024</td>\n",
       "      <td>1</td>\n",
       "    </tr>\n",
       "    <tr>\n",
       "      <th>41220fda34a3</th>\n",
       "      <td>6897fa9de148</td>\n",
       "      <td>2bfbb7fd2e8b</td>\n",
       "      <td>0</td>\n",
       "      <td>0</td>\n",
       "      <td>0</td>\n",
       "      <td>0</td>\n",
       "      <td>0</td>\n",
       "      <td>0</td>\n",
       "      <td>1</td>\n",
       "      <td>1</td>\n",
       "      <td>0</td>\n",
       "      <td>1</td>\n",
       "      <td>3</td>\n",
       "      <td>-432.5</td>\n",
       "      <td>HFS</td>\n",
       "      <td>-1024</td>\n",
       "      <td>1</td>\n",
       "    </tr>\n",
       "    <tr>\n",
       "      <th>13b685b4b14f</th>\n",
       "      <td>6897fa9de148</td>\n",
       "      <td>2bfbb7fd2e8b</td>\n",
       "      <td>0</td>\n",
       "      <td>0</td>\n",
       "      <td>0</td>\n",
       "      <td>0</td>\n",
       "      <td>0</td>\n",
       "      <td>0</td>\n",
       "      <td>1</td>\n",
       "      <td>1</td>\n",
       "      <td>0</td>\n",
       "      <td>1</td>\n",
       "      <td>3</td>\n",
       "      <td>-434.5</td>\n",
       "      <td>HFS</td>\n",
       "      <td>-1024</td>\n",
       "      <td>1</td>\n",
       "    </tr>\n",
       "    <tr>\n",
       "      <th>be0b7524ffb4</th>\n",
       "      <td>6897fa9de148</td>\n",
       "      <td>2bfbb7fd2e8b</td>\n",
       "      <td>0</td>\n",
       "      <td>0</td>\n",
       "      <td>0</td>\n",
       "      <td>0</td>\n",
       "      <td>0</td>\n",
       "      <td>0</td>\n",
       "      <td>1</td>\n",
       "      <td>1</td>\n",
       "      <td>0</td>\n",
       "      <td>1</td>\n",
       "      <td>3</td>\n",
       "      <td>-436.5</td>\n",
       "      <td>HFS</td>\n",
       "      <td>-1024</td>\n",
       "      <td>1</td>\n",
       "    </tr>\n",
       "  </tbody>\n",
       "</table>\n",
       "</div>"
      ],
      "text/plain": [
       "               StudyInstanceUID SeriesInstanceUID  pe_present_on_image  \\\n",
       "SOPInstanceUID                                                           \n",
       "c0f3cb036d06       6897fa9de148      2bfbb7fd2e8b                    0   \n",
       "f57ffd3883b6       6897fa9de148      2bfbb7fd2e8b                    0   \n",
       "41220fda34a3       6897fa9de148      2bfbb7fd2e8b                    0   \n",
       "13b685b4b14f       6897fa9de148      2bfbb7fd2e8b                    0   \n",
       "be0b7524ffb4       6897fa9de148      2bfbb7fd2e8b                    0   \n",
       "\n",
       "                negative_exam_for_pe  indeterminate  chronic_pe  \\\n",
       "SOPInstanceUID                                                    \n",
       "c0f3cb036d06                       0              0           0   \n",
       "f57ffd3883b6                       0              0           0   \n",
       "41220fda34a3                       0              0           0   \n",
       "13b685b4b14f                       0              0           0   \n",
       "be0b7524ffb4                       0              0           0   \n",
       "\n",
       "                acute_and_chronic_pe  central_pe  leftsided_pe  rightsided_pe  \\\n",
       "SOPInstanceUID                                                                  \n",
       "c0f3cb036d06                       0           0             1              1   \n",
       "f57ffd3883b6                       0           0             1              1   \n",
       "41220fda34a3                       0           0             1              1   \n",
       "13b685b4b14f                       0           0             1              1   \n",
       "be0b7524ffb4                       0           0             1              1   \n",
       "\n",
       "                rv_lv_ratio_gte_1  rv_lv_ratio_lt_1  fold  img_pos  \\\n",
       "SOPInstanceUID                                                       \n",
       "c0f3cb036d06                    0                 1     3   -234.5   \n",
       "f57ffd3883b6                    0                 1     3   -252.5   \n",
       "41220fda34a3                    0                 1     3   -432.5   \n",
       "13b685b4b14f                    0                 1     3   -434.5   \n",
       "be0b7524ffb4                    0                 1     3   -436.5   \n",
       "\n",
       "               patient_position  intercept  slope  \n",
       "SOPInstanceUID                                     \n",
       "c0f3cb036d06                HFS      -1024      1  \n",
       "f57ffd3883b6                HFS      -1024      1  \n",
       "41220fda34a3                HFS      -1024      1  \n",
       "13b685b4b14f                HFS      -1024      1  \n",
       "be0b7524ffb4                HFS      -1024      1  "
      ]
     },
     "execution_count": 7,
     "metadata": {},
     "output_type": "execute_result"
    }
   ],
   "source": [
    "dataDF.head()"
   ]
  },
  {
   "cell_type": "code",
   "execution_count": 8,
   "metadata": {},
   "outputs": [],
   "source": [
    "trainDF = dataDF[dataDF['fold']!=0]\n",
    "valDF = dataDF[dataDF['fold']==0]"
   ]
  },
  {
   "cell_type": "code",
   "execution_count": 9,
   "metadata": {},
   "outputs": [],
   "source": [
    "class embeddingsDataset(Dataset):\n",
    "    \"\"\"create sample dataset to work with\"\"\"\n",
    "\n",
    "    def __init__(self, dataDF = None, listOfStudies = None, embeddingDirPath = None):\n",
    "        self.dataDF = dataDF\n",
    "        self.listOfStudies = listOfStudies\n",
    "        self.embeddingDirPath = embeddingDirPath\n",
    "\n",
    "    def __len__(self):\n",
    "        return len(self.listOfStudies)\n",
    "\n",
    "    def __getitem__(self, idx):\n",
    "        embedDict = pickle.load(open(self.embeddingDirPath+self.listOfStudies[idx]+'.p', 'rb'))\n",
    "        embeddingVolume = np.array(embedDict['embeddings'])\n",
    "        listOfImages = embedDict['ids']\n",
    "        imageLevelLabels = [self.dataDF.loc[eachImageID, 'pe_present_on_image']for eachImageID in listOfImages]\n",
    "        imageLevelLabels = np.array(imageLevelLabels).astype(np.float32)\n",
    "        studyLevelLabels = self.dataDF.loc[listOfImages[0]][3:12].values\n",
    "        studyLevelLabels = np.array(studyLevelLabels).astype(np.float32)\n",
    "        return embeddingVolume, (imageLevelLabels, studyLevelLabels)"
   ]
  },
  {
   "cell_type": "code",
   "execution_count": 10,
   "metadata": {},
   "outputs": [],
   "source": [
    "INPUT_SIZE = 64\n",
    "HIDDEN_SIZE = 32\n",
    "NUM_LAYERS = 1\n",
    "NUM_CLASSES = 1\n",
    "\n",
    "class BiGRU(nn.Module):\n",
    "    def __init__(self, input_size, hidden_size, num_layers, num_classes):\n",
    "        super(BiGRU, self).__init__()\n",
    "        self.hidden_size = hidden_size\n",
    "        self.num_layers = num_layers\n",
    "        self.GRU = nn.GRU(\n",
    "            input_size, hidden_size, num_layers, batch_first=True, bidirectional=True\n",
    "        )\n",
    "        self.linear1 = nn.Linear(hidden_size*2, hidden_size)\n",
    "        self.linear2 = nn.Linear(hidden_size, num_classes)\n",
    "        self.linear3 = nn.Linear(hidden_size*2, hidden_size)\n",
    "        self.linear4 = nn.Linear(hidden_size, 9)\n",
    "\n",
    "    def forward(self, x):\n",
    "        imageLevelOutputs = []\n",
    "        h0 = torch.zeros(self.num_layers * 2, x.size(0), self.hidden_size).cuda()\n",
    "        #c0 = torch.zeros(self.num_layers * 2, x.size(0), self.hidden_size).cuda()\n",
    "\n",
    "        out, h_n = self.GRU(x, h0)\n",
    "        \n",
    "        for i, out_t in enumerate(out.chunk(out.size(1), dim=1)):\n",
    "            out_t = out_t.squeeze(1)\n",
    "            out_t = F.relu(self.linear1(out_t))\n",
    "            out_t = self.linear2(out_t)\n",
    "            imageLevelOutputs += [out_t]\n",
    "        imageLevelOutputs = torch.stack(imageLevelOutputs, 1).squeeze(2)\n",
    "        \n",
    "        h_n = h_n.view(1,-1)\n",
    "        studyLevelOutputs = F.relu(self.linear3(h_n))\n",
    "        studyLevelOutputs = self.linear4(studyLevelOutputs)\n",
    "        \n",
    "        return (imageLevelOutputs, studyLevelOutputs)"
   ]
  },
  {
   "cell_type": "code",
   "execution_count": 11,
   "metadata": {},
   "outputs": [],
   "source": [
    "seq = BiGRU(INPUT_SIZE, HIDDEN_SIZE, NUM_LAYERS, NUM_CLASSES).cuda()"
   ]
  },
  {
   "cell_type": "markdown",
   "metadata": {},
   "source": [
    "# batch,seqNum,features\n",
    "sampleInput = torch.rand((1,120,64)).cuda()\n",
    "sampleImgOutput, sampleStdOutput = seq(sampleInput)\n",
    "print(sampleImgOutput.size())\n",
    "print(sampleStdOutput.size())"
   ]
  },
  {
   "cell_type": "code",
   "execution_count": 12,
   "metadata": {},
   "outputs": [],
   "source": [
    "def customLoss(imageLevelOutputLogits, imageLevelLabels, studyLeveloutputLogits, studyLevelLabels, rho=0.5):\n",
    "    imageLevelLoss = F.binary_cross_entropy_with_logits(imageLevelOutputLogits,imageLevelLabels,pos_weight = torch.tensor([3.0]).cuda())\n",
    "    \n",
    "    studyLevelLoss = 0\n",
    "    weightList = [0.0736196319, 0.09202453988, 0.1042944785, 0.1042944785, 0.1877300613, 0.06257668712, 0.06257668712, 0.2346625767, 0.0782208589]\n",
    "    for eachInd in range(9):\n",
    "        studyLevelLoss += weightList[eachInd]*F.binary_cross_entropy_with_logits(studyLeveloutputLogits[:,eachInd],studyLevelLabels[:,eachInd])\n",
    "    \n",
    "    return rho*imageLevelLoss+(1-rho)*studyLevelLoss, imageLevelLoss, studyLevelLoss\n",
    "\n",
    "def competitionMetric(imageLevelOutputLogits, imageLevelLabels, studyLeveloutputLogits, studyLevelLabels):\n",
    "    imageLevelLoss = 0.07361963*(torch.sum(imageLevelLabels)/imageLevelLabels.size(1))*F.binary_cross_entropy_with_logits(imageLevelOutputLogits,imageLevelLabels,reduction='sum')\n",
    "    \n",
    "    studyLevelLoss = 0\n",
    "    weightList = [0.0736196319, 0.09202453988, 0.1042944785, 0.1042944785, 0.1877300613, 0.06257668712, 0.06257668712, 0.2346625767, 0.0782208589]\n",
    "    for eachInd in range(9):\n",
    "        studyLevelLoss += weightList[eachInd]*F.binary_cross_entropy_with_logits(studyLeveloutputLogits[:,eachInd],studyLevelLabels[:,eachInd], reduction='sum')\n",
    "    \n",
    "    return imageLevelLoss+studyLevelLoss, imageLevelLabels.size(1)+9"
   ]
  },
  {
   "cell_type": "code",
   "execution_count": 13,
   "metadata": {},
   "outputs": [],
   "source": [
    "optimizer = optim.Adam(seq.parameters(), lr=5e-5)"
   ]
  },
  {
   "cell_type": "code",
   "execution_count": 14,
   "metadata": {},
   "outputs": [],
   "source": [
    "valEmbeddingDirPath = 'data/embeddings/CNNmodel_01_cv0_epoch1_20201014_0012/val/'\n",
    "augEmbeddingDirPathBase = 'data/embeddings/CNNmodel_01_cv0_epoch1_20201014_0012/aug'\n",
    "\n",
    "valEmbeddingsDataset = embeddingsDataset(dataDF=dataDF, listOfStudies=valDF['StudyInstanceUID'].unique(), embeddingDirPath=valEmbeddingDirPath)\n",
    "valEmbeddingsDataloader = DataLoader(valEmbeddingsDataset, batch_size=1, shuffle=False, num_workers=1)"
   ]
  },
  {
   "cell_type": "code",
   "execution_count": 15,
   "metadata": {},
   "outputs": [],
   "source": [
    "def train_loop(model, epoch):\n",
    "    train_total = train_correct = train_cost_tot = train_cost1 = train_cost2 = 0\n",
    "    seq.train()\n",
    "    thisEmbeddingDirPath = augEmbeddingDirPathBase + str(epoch).zfill(2) + '/'\n",
    "    thisEmbeddingsDataset = embeddingsDataset(dataDF=dataDF, listOfStudies=trainDF['StudyInstanceUID'].unique(), embeddingDirPath=thisEmbeddingDirPath)\n",
    "    train_loader = DataLoader(thisEmbeddingsDataset, batch_size=1, shuffle=True, num_workers=1)\n",
    "    for x, (y_img, y_std) in tqdm(train_loader):\n",
    "        x = x.cuda()\n",
    "        y_img = y_img.cuda()\n",
    "        y_std = y_std.cuda()\n",
    "        optimizer.zero_grad()\n",
    "        (o_img, o_std) = seq(x)\n",
    "        train_total += y_img.size(1)\n",
    "        train_correct += ((torch.sigmoid(o_img[0,:])>0.5) == (y_img[0,:]>0.5)).sum().item()\n",
    "        loss, loss1, loss2 = customLoss(o_img, y_img, o_std, y_std)\n",
    "        loss.backward()\n",
    "        optimizer.step()\n",
    "        train_cost_tot += loss.item()\n",
    "        train_cost1 += loss1.item()\n",
    "        train_cost2 += loss2.item()\n",
    "    return 100*train_cost_tot/train_total, 100*train_cost1/train_total, 100*train_cost2/train_total, train_correct/train_total \n",
    "\n",
    "def valid_loop(model, valid_loader):\n",
    "    # Evaluate on validation  data \n",
    "    val_total = val_correct = val_cost_tot = val_cost1 = val_cost2 = val_metric_tot = rows_tot = 0\n",
    "    model.eval()\n",
    "    with torch.no_grad():\n",
    "        for x_val, (y_val_img, y_val_std) in tqdm(valid_loader):\n",
    "            x_val = x_val.cuda()\n",
    "            y_val_img = y_val_img.cuda()\n",
    "            y_val_std = y_val_std.cuda()\n",
    "            (o_val_img, o_val_std) = seq(x_val)\n",
    "            # Calculate loss and metric\n",
    "            val_total += y_val_img.size(1)\n",
    "            val_correct += ((torch.sigmoid(o_val_img[0,:])>0.5) == (y_val_img[0,:]>0.5)).sum().item()\n",
    "            loss, loss1, loss2 = customLoss(o_val_img, y_val_img, o_val_std, y_val_std)\n",
    "            metric, numRows = competitionMetric(o_val_img, y_val_img, o_val_std, y_val_std)\n",
    "            val_cost_tot += loss.item()\n",
    "            val_cost1 += loss1.item()\n",
    "            val_cost2 += loss2.item()\n",
    "            val_metric_tot += metric.item()\n",
    "            rows_tot += numRows\n",
    "    return 100*val_cost_tot/val_total, 100*val_cost1/val_total, 100*val_cost2/val_total, 100*val_metric_tot/rows_tot, val_correct/val_total\n",
    "\n",
    "def main_loop(n_epochs):\n",
    "    val_avgCostList = []\n",
    "    val_Cost1List = []\n",
    "    val_Cost2List = []\n",
    "    for epoch in range(n_epochs):\n",
    "        print('epoch ' + str(epoch) + ':')\n",
    "        train_avgCost, train_Cost1, train_Cost2, train_acc = train_loop(seq, epoch)\n",
    "        val_avgCost, val_Cost1, val_Cost2, val_compMetric, val_acc = valid_loop(seq, valEmbeddingsDataloader)\n",
    "        val_avgCostList.append(val_avgCost)\n",
    "        val_Cost1List.append(val_Cost1)\n",
    "        val_Cost2List.append(val_Cost2)\n",
    "        print('train_cost: %.4f, train_cost_img: %.4f, train_cost_std: %.4f,train_acc: %.4f'\\\n",
    "              % (train_avgCost, train_Cost1, train_Cost2, train_acc))\n",
    "        print('val_cost: %.4f, val_cost_img: %.4f, val_cost_std: %.4f, val_compMetric: %.4f, val_acc: %.4f'\\\n",
    "              % (val_avgCost, val_Cost1, train_Cost2, val_compMetric, val_acc))\n",
    "        modelPath = 'models/embedderModel/cv0/CNNmodel_01_cv0_epoch1_20201014_0012_sequence' + str(epoch) + '_' + DATESTRING +'.pth'\n",
    "        print('saving: ',modelPath)\n",
    "        torch.save(seq, modelPath)\n",
    "    return val_avgCostList, val_Cost1List, val_Cost2List"
   ]
  },
  {
   "cell_type": "markdown",
   "metadata": {},
   "source": [
    "# Note mistake in the model name!!!"
   ]
  },
  {
   "cell_type": "code",
   "execution_count": 16,
   "metadata": {
    "scrolled": true
   },
   "outputs": [
    {
     "name": "stderr",
     "output_type": "stream",
     "text": [
      "\r",
      "  0%|          | 0/5823 [00:00<?, ?it/s]"
     ]
    },
    {
     "name": "stdout",
     "output_type": "stream",
     "text": [
      "epoch 0:\n"
     ]
    },
    {
     "name": "stderr",
     "output_type": "stream",
     "text": [
      "100%|██████████| 5823/5823 [05:59<00:00, 16.21it/s]\n",
      "100%|██████████| 1456/1456 [00:39<00:00, 37.15it/s]\n",
      "  0%|          | 0/5823 [00:00<?, ?it/s]"
     ]
    },
    {
     "name": "stdout",
     "output_type": "stream",
     "text": [
      "train_cost: 0.1028, train_cost_img: 0.0667, train_cost_std: 0.1390,train_acc: 0.9679\n",
      "val_cost: 0.0931, val_cost_img: 0.0726, val_cost_std: 0.1390, val_compMetric: 0.2135, val_acc: 0.9675\n",
      "saving:  models/embedderModel/cv0/CNNmodel_01_cv0_epoch2_20201014_0901_sequence0_20201020_1319.pth\n",
      "epoch 1:\n"
     ]
    },
    {
     "name": "stderr",
     "output_type": "stream",
     "text": [
      "100%|██████████| 5823/5823 [05:59<00:00, 16.18it/s]\n",
      "100%|██████████| 1456/1456 [00:38<00:00, 38.03it/s]\n",
      "  0%|          | 0/5823 [00:00<?, ?it/s]"
     ]
    },
    {
     "name": "stdout",
     "output_type": "stream",
     "text": [
      "train_cost: 0.0717, train_cost_img: 0.0502, train_cost_std: 0.0932,train_acc: 0.9732\n",
      "val_cost: 0.0813, val_cost_img: 0.0696, val_cost_std: 0.0932, val_compMetric: 0.1917, val_acc: 0.9635\n",
      "saving:  models/embedderModel/cv0/CNNmodel_01_cv0_epoch2_20201014_0901_sequence1_20201020_1319.pth\n",
      "epoch 2:\n"
     ]
    },
    {
     "name": "stderr",
     "output_type": "stream",
     "text": [
      "100%|██████████| 5823/5823 [05:57<00:00, 16.31it/s]\n",
      "100%|██████████| 1456/1456 [00:38<00:00, 38.08it/s]\n",
      "  0%|          | 0/5823 [00:00<?, ?it/s]"
     ]
    },
    {
     "name": "stdout",
     "output_type": "stream",
     "text": [
      "train_cost: 0.0659, train_cost_img: 0.0491, train_cost_std: 0.0827,train_acc: 0.9735\n",
      "val_cost: 0.0809, val_cost_img: 0.0720, val_cost_std: 0.0827, val_compMetric: 0.1905, val_acc: 0.9703\n",
      "saving:  models/embedderModel/cv0/CNNmodel_01_cv0_epoch2_20201014_0901_sequence2_20201020_1319.pth\n",
      "epoch 3:\n"
     ]
    },
    {
     "name": "stderr",
     "output_type": "stream",
     "text": [
      "100%|██████████| 5823/5823 [05:56<00:00, 16.34it/s]\n",
      "100%|██████████| 1456/1456 [00:38<00:00, 38.01it/s]\n",
      "  0%|          | 0/5823 [00:00<?, ?it/s]"
     ]
    },
    {
     "name": "stdout",
     "output_type": "stream",
     "text": [
      "train_cost: 0.0647, train_cost_img: 0.0484, train_cost_std: 0.0810,train_acc: 0.9741\n",
      "val_cost: 0.0801, val_cost_img: 0.0708, val_cost_std: 0.0810, val_compMetric: 0.1888, val_acc: 0.9695\n",
      "saving:  models/embedderModel/cv0/CNNmodel_01_cv0_epoch2_20201014_0901_sequence3_20201020_1319.pth\n",
      "epoch 4:\n"
     ]
    },
    {
     "name": "stderr",
     "output_type": "stream",
     "text": [
      "100%|██████████| 5823/5823 [05:59<00:00, 16.21it/s]\n",
      "100%|██████████| 1456/1456 [00:38<00:00, 37.69it/s]\n",
      "  0%|          | 0/5823 [00:00<?, ?it/s]"
     ]
    },
    {
     "name": "stdout",
     "output_type": "stream",
     "text": [
      "train_cost: 0.0639, train_cost_img: 0.0475, train_cost_std: 0.0802,train_acc: 0.9751\n",
      "val_cost: 0.0805, val_cost_img: 0.0719, val_cost_std: 0.0802, val_compMetric: 0.1901, val_acc: 0.9702\n",
      "saving:  models/embedderModel/cv0/CNNmodel_01_cv0_epoch2_20201014_0901_sequence4_20201020_1319.pth\n",
      "epoch 5:\n"
     ]
    },
    {
     "name": "stderr",
     "output_type": "stream",
     "text": [
      "100%|██████████| 5823/5823 [05:58<00:00, 16.22it/s]\n",
      "100%|██████████| 1456/1456 [00:38<00:00, 37.90it/s]\n",
      "  0%|          | 0/5823 [00:00<?, ?it/s]"
     ]
    },
    {
     "name": "stdout",
     "output_type": "stream",
     "text": [
      "train_cost: 0.0634, train_cost_img: 0.0477, train_cost_std: 0.0790,train_acc: 0.9749\n",
      "val_cost: 0.0789, val_cost_img: 0.0682, val_cost_std: 0.0790, val_compMetric: 0.1878, val_acc: 0.9672\n",
      "saving:  models/embedderModel/cv0/CNNmodel_01_cv0_epoch2_20201014_0901_sequence5_20201020_1319.pth\n",
      "epoch 6:\n"
     ]
    },
    {
     "name": "stderr",
     "output_type": "stream",
     "text": [
      "100%|██████████| 5823/5823 [05:56<00:00, 16.32it/s]\n",
      "100%|██████████| 1456/1456 [00:38<00:00, 37.99it/s]\n",
      "  0%|          | 0/5823 [00:00<?, ?it/s]"
     ]
    },
    {
     "name": "stdout",
     "output_type": "stream",
     "text": [
      "train_cost: 0.0627, train_cost_img: 0.0472, train_cost_std: 0.0782,train_acc: 0.9750\n",
      "val_cost: 0.0780, val_cost_img: 0.0677, val_cost_std: 0.0782, val_compMetric: 0.1852, val_acc: 0.9689\n",
      "saving:  models/embedderModel/cv0/CNNmodel_01_cv0_epoch2_20201014_0901_sequence6_20201020_1319.pth\n",
      "epoch 7:\n"
     ]
    },
    {
     "name": "stderr",
     "output_type": "stream",
     "text": [
      "100%|██████████| 5823/5823 [05:59<00:00, 16.18it/s]\n",
      "100%|██████████| 1456/1456 [00:38<00:00, 37.85it/s]\n",
      "  0%|          | 0/5823 [00:00<?, ?it/s]"
     ]
    },
    {
     "name": "stdout",
     "output_type": "stream",
     "text": [
      "train_cost: 0.0627, train_cost_img: 0.0473, train_cost_std: 0.0780,train_acc: 0.9751\n",
      "val_cost: 0.0780, val_cost_img: 0.0686, val_cost_std: 0.0780, val_compMetric: 0.1847, val_acc: 0.9695\n",
      "saving:  models/embedderModel/cv0/CNNmodel_01_cv0_epoch2_20201014_0901_sequence7_20201020_1319.pth\n",
      "epoch 8:\n"
     ]
    },
    {
     "name": "stderr",
     "output_type": "stream",
     "text": [
      "100%|██████████| 5823/5823 [06:00<00:00, 16.17it/s]\n",
      "100%|██████████| 1456/1456 [00:38<00:00, 38.12it/s]\n",
      "  0%|          | 0/5823 [00:00<?, ?it/s]"
     ]
    },
    {
     "name": "stdout",
     "output_type": "stream",
     "text": [
      "train_cost: 0.0622, train_cost_img: 0.0472, train_cost_std: 0.0771,train_acc: 0.9749\n",
      "val_cost: 0.0797, val_cost_img: 0.0715, val_cost_std: 0.0771, val_compMetric: 0.1886, val_acc: 0.9703\n",
      "saving:  models/embedderModel/cv0/CNNmodel_01_cv0_epoch2_20201014_0901_sequence8_20201020_1319.pth\n",
      "epoch 9:\n"
     ]
    },
    {
     "name": "stderr",
     "output_type": "stream",
     "text": [
      "100%|██████████| 5823/5823 [05:59<00:00, 16.21it/s]\n",
      "100%|██████████| 1456/1456 [00:39<00:00, 37.11it/s]"
     ]
    },
    {
     "name": "stdout",
     "output_type": "stream",
     "text": [
      "train_cost: 0.0619, train_cost_img: 0.0465, train_cost_std: 0.0772,train_acc: 0.9757\n",
      "val_cost: 0.0772, val_cost_img: 0.0682, val_cost_std: 0.0772, val_compMetric: 0.1843, val_acc: 0.9692\n",
      "saving:  models/embedderModel/cv0/CNNmodel_01_cv0_epoch2_20201014_0901_sequence9_20201020_1319.pth\n"
     ]
    },
    {
     "name": "stderr",
     "output_type": "stream",
     "text": [
      "\n"
     ]
    }
   ],
   "source": [
    "# Note mistakes in the model name!!!\n",
    "list1, list2, list3 = main_loop(10)"
   ]
  },
  {
   "cell_type": "code",
   "execution_count": 21,
   "metadata": {},
   "outputs": [
    {
     "data": {
      "text/plain": [
       "[<matplotlib.lines.Line2D at 0x7f5143246750>]"
      ]
     },
     "execution_count": 21,
     "metadata": {},
     "output_type": "execute_result"
    },
    {
     "data": {
      "image/png": "[encoded data removed]",
      "text/plain": [
       "<Figure size 432x288 with 1 Axes>"
      ]
     },
     "metadata": {
      "needs_background": "light"
     },
     "output_type": "display_data"
    }
   ],
   "source": [
    "plt.plot(list1)\n",
    "plt.plot(list2)\n",
    "plt.plot(list3)"
   ]
  },
  {
   "cell_type": "code",
   "execution_count": 17,
   "metadata": {},
   "outputs": [],
   "source": [
    "iterVal = iter(valEmbeddingsDataloader)"
   ]
  },
  {
   "cell_type": "code",
   "execution_count": 18,
   "metadata": {},
   "outputs": [
    {
     "name": "stdout",
     "output_type": "stream",
     "text": [
      "0.0009033124661073089 0.0\n",
      "0.0005709259421564639 0.0\n",
      "0.00043395336251705885 0.0\n",
      "0.00039422052213922143 0.0\n",
      "0.0003740342508535832 0.0\n",
      "0.00035327201476320624 0.0\n",
      "0.00032831935095600784 0.0\n",
      "0.0003413487283978611 0.0\n",
      "0.0003516829165164381 0.0\n",
      "0.0003477193822618574 0.0\n",
      "0.0003532306000124663 0.0\n",
      "0.00034345712629146874 0.0\n",
      "0.0003345227742101997 0.0\n",
      "0.00032930081943050027 0.0\n",
      "0.0003195177996531129 0.0\n",
      "0.0003292421461082995 0.0\n",
      "0.0003074228297919035 0.0\n",
      "0.0003179946797899902 0.0\n",
      "0.00033059492125175893 0.0\n",
      "0.00033379168598912656 0.0\n",
      "0.00033630579127930105 0.0\n",
      "0.00037190201692283154 0.0\n",
      "0.00039421714609488845 0.0\n",
      "0.0005195172852836549 0.0\n",
      "0.000855035032145679 0.0\n",
      "0.0007881468627601862 0.0\n",
      "0.000917330093216151 0.0\n",
      "0.0011043609119951725 0.0\n",
      "0.0009291339083574712 0.0\n",
      "0.0011502375127747655 0.0\n",
      "0.0016806048806756735 0.0\n",
      "0.001940552145242691 0.0\n",
      "0.002063982654362917 0.0\n",
      "0.0028843225445598364 0.0\n",
      "0.004875782877206802 0.0\n",
      "0.006577412132173777 0.0\n",
      "0.009231621399521828 0.0\n",
      "0.006140832789242268 0.0\n",
      "0.006455888040363789 0.0\n",
      "0.007283882703632116 0.0\n",
      "0.00839944463223219 0.0\n",
      "0.008548823185265064 0.0\n",
      "0.007587732747197151 0.0\n",
      "0.009255665354430676 0.0\n",
      "0.010260037146508694 0.0\n",
      "0.013188386335968971 0.0\n",
      "0.01702032797038555 0.0\n",
      "0.02339482493698597 0.0\n",
      "0.01615784503519535 0.0\n",
      "0.015456213615834713 0.0\n",
      "0.016537178307771683 0.0\n",
      "0.021005291491746902 0.0\n",
      "0.029688844457268715 0.0\n",
      "0.06098166108131409 0.0\n",
      "0.04509077966213226 0.0\n",
      "0.03859073296189308 0.0\n",
      "0.032421715557575226 0.0\n",
      "0.04255778715014458 0.0\n",
      "0.07078781723976135 0.0\n",
      "0.043972332030534744 0.0\n",
      "0.03140109032392502 0.0\n",
      "0.02468072436749935 0.0\n",
      "0.02249072678387165 0.0\n",
      "0.05973684415221214 0.0\n",
      "0.0391494482755661 0.0\n",
      "0.033542219549417496 0.0\n",
      "0.039564792066812515 0.0\n",
      "0.05121266841888428 0.0\n",
      "0.03126237541437149 0.0\n",
      "0.024577206000685692 0.0\n",
      "0.024800026789307594 0.0\n",
      "0.038769420236349106 0.0\n",
      "0.01981630176305771 0.0\n",
      "0.015688562765717506 0.0\n",
      "0.018842145800590515 0.0\n",
      "0.020315634086728096 0.0\n",
      "0.0224233977496624 0.0\n",
      "0.025706909596920013 0.0\n",
      "0.08572673052549362 0.0\n",
      "0.03069893829524517 0.0\n",
      "0.029102671891450882 0.0\n",
      "0.03219882398843765 0.0\n",
      "0.0509735569357872 0.0\n",
      "0.0367431640625 0.0\n",
      "0.03640215843915939 0.0\n",
      "0.06221875920891762 0.0\n",
      "0.07692049443721771 0.0\n",
      "0.08174224942922592 0.0\n",
      "0.07626646012067795 0.0\n",
      "0.07154452055692673 0.0\n",
      "0.09620270133018494 0.0\n",
      "0.10362234711647034 0.0\n",
      "0.1379374861717224 0.0\n",
      "0.12878763675689697 0.0\n",
      "0.137245774269104 0.0\n",
      "0.12804730236530304 0.0\n",
      "0.10879380255937576 0.0\n",
      "0.12633654475212097 0.0\n",
      "0.07428155094385147 0.0\n",
      "0.03270046040415764 0.0\n",
      "0.015386530198156834 0.0\n",
      "0.010956703685224056 0.0\n",
      "0.009733769111335278 0.0\n",
      "0.012911579571664333 0.0\n",
      "0.005429494194686413 0.0\n",
      "0.005230841226875782 0.0\n",
      "0.0035851607099175453 0.0\n",
      "0.003112291218712926 0.0\n",
      "0.0028071000706404448 0.0\n",
      "0.0028172319289296865 0.0\n",
      "0.0030857976526021957 0.0\n",
      "0.0032841297797858715 0.0\n",
      "0.0038067626301199198 0.0\n",
      "0.0038881348446011543 0.0\n",
      "0.0042562843300402164 0.0\n",
      "0.003931737970560789 0.0\n",
      "0.003646420082077384 0.0\n",
      "0.003504635766148567 0.0\n",
      "0.003853803500533104 0.0\n",
      "0.0045891692861914635 0.0\n",
      "0.004701153840869665 0.0\n",
      "0.005311404354870319 0.0\n",
      "0.004503576084971428 0.0\n",
      "0.0037008863873779774 0.0\n",
      "0.0036607575602829456 0.0\n",
      "0.0028085261583328247 0.0\n",
      "0.001874201581813395 0.0\n",
      "0.0012088957009837031 0.0\n",
      "0.0009272833121940494 0.0\n",
      "0.0008430382586084306 0.0\n",
      "0.0009798010578379035 0.0\n",
      "0.0009372404892928898 0.0\n",
      "0.0009542314801365137 0.0\n",
      "0.0012305170530453324 0.0\n",
      "0.0011802359949797392 0.0\n",
      "0.0015554819256067276 0.0\n",
      "0.0012088560033589602 0.0\n",
      "0.0011546645546332002 0.0\n",
      "0.0016521582147106528 0.0\n",
      "0.0014436609344556928 0.0\n",
      "0.00256713037379086 0.0\n",
      "0.0020670334342867136 0.0\n",
      "0.001347277546301484 0.0\n",
      "0.0013269261689856648 0.0\n",
      "0.0022404780611395836 0.0\n"
     ]
    }
   ],
   "source": [
    "# Sanity Check\n",
    "seq.eval()\n",
    "with torch.no_grad():\n",
    "    x,(y_img, _) = next(iterVal)\n",
    "    x=x.cuda()\n",
    "    o_img, _ = seq(x)\n",
    "    pred = torch.sigmoid(o_img)\n",
    "    for eachIndex in range(pred.size(1)):\n",
    "        print((pred[0,eachIndex]).type(torch.float).item(), y_img[0, eachIndex].item())"
   ]
  }
 ],
 "metadata": {
  "kernelspec": {
   "display_name": "pyTorchEnv37",
   "language": "python",
   "name": "pytorchenv37"
  },
  "language_info": {
   "codemirror_mode": {
    "name": "ipython",
    "version": 3
   },
   "file_extension": ".py",
   "mimetype": "text/x-python",
   "name": "python",
   "nbconvert_exporter": "python",
   "pygments_lexer": "ipython3",
   "version": "3.7.9"
  }
 },
 "nbformat": 4,
 "nbformat_minor": 4
}
