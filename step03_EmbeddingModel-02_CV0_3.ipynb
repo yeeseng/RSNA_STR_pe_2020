{
 "cells": [
  {
   "cell_type": "code",
   "execution_count": 1,
   "metadata": {},
   "outputs": [],
   "source": [
    "# PyTorch Modules\n",
    "import torch\n",
    "import torch.nn as nn\n",
    "from torch.utils.data import Dataset, DataLoader\n",
    "import torch.optim as optim\n",
    "import torch.nn.functional as F\n",
    "\n",
    "import torchvision\n",
    "from torchvision import models\n",
    "from torchvision import transforms\n",
    "import torchvision.transforms as transforms\n",
    "import torchvision.datasets as dsets\n",
    "\n",
    "# Other non-PyTorch Modules\n",
    "import numpy as np\n",
    "import matplotlib.pyplot as plt\n",
    "import pandas as pd\n",
    "from tqdm import tqdm\n",
    "from matplotlib.pyplot import imshow\n",
    "import matplotlib.pylab as plt\n",
    "from PIL import Image\n",
    "import time\n",
    "from datetime import datetime\n",
    "import pickle\n",
    "import json\n",
    "import random"
   ]
  },
  {
   "cell_type": "code",
   "execution_count": 2,
   "metadata": {},
   "outputs": [],
   "source": [
    "torch.cuda.empty_cache()"
   ]
  },
  {
   "cell_type": "code",
   "execution_count": 3,
   "metadata": {},
   "outputs": [
    {
     "name": "stdout",
     "output_type": "stream",
     "text": [
      "20201020_1653\n"
     ]
    }
   ],
   "source": [
    "now = datetime.now()\n",
    "DATESTRING = now.strftime(\"%Y%m%d_%H%M\")\n",
    "print(DATESTRING)"
   ]
  },
  {
   "cell_type": "code",
   "execution_count": 4,
   "metadata": {},
   "outputs": [],
   "source": [
    "dataDF = pd.read_csv('data_fold.csv')\n",
    "dataDF = dataDF.set_index('SOPInstanceUID')"
   ]
  },
  {
   "cell_type": "code",
   "execution_count": 5,
   "metadata": {},
   "outputs": [
    {
     "data": {
      "text/plain": [
       "Index(['StudyInstanceUID', 'SeriesInstanceUID', 'pe_present_on_image',\n",
       "       'negative_exam_for_pe', 'qa_motion', 'qa_contrast', 'flow_artifact',\n",
       "       'rv_lv_ratio_gte_1', 'rv_lv_ratio_lt_1', 'leftsided_pe', 'chronic_pe',\n",
       "       'true_filling_defect_not_pe', 'rightsided_pe', 'acute_and_chronic_pe',\n",
       "       'central_pe', 'indeterminate', 'window_center', 'window_width',\n",
       "       'intercept', 'slope', 'slice_thickness', 'kvp', 'ma', 'exposure',\n",
       "       'img_pos', 'conv_kernel', 'patient_position', 'pixel_spacing',\n",
       "       'bits_stored', 'high_bit', 'img_count', 'fold'],\n",
       "      dtype='object')"
      ]
     },
     "execution_count": 5,
     "metadata": {},
     "output_type": "execute_result"
    }
   ],
   "source": [
    "dataDF.columns"
   ]
  },
  {
   "cell_type": "code",
   "execution_count": 6,
   "metadata": {},
   "outputs": [],
   "source": [
    "dataDF = dataDF.reindex(columns=['StudyInstanceUID', 'SeriesInstanceUID', 'pe_present_on_image', 'negative_exam_for_pe',\n",
    "                       'indeterminate', 'chronic_pe', 'acute_and_chronic_pe', 'central_pe', 'leftsided_pe',\n",
    "                       'rightsided_pe', 'rv_lv_ratio_gte_1', 'rv_lv_ratio_lt_1','fold','img_pos','patient_position',\n",
    "                       'intercept', 'slope'])                  "
   ]
  },
  {
   "cell_type": "code",
   "execution_count": 7,
   "metadata": {
    "scrolled": false
   },
   "outputs": [
    {
     "data": {
      "text/html": [
       "<div>\n",
       "<style scoped>\n",
       "    .dataframe tbody tr th:only-of-type {\n",
       "        vertical-align: middle;\n",
       "    }\n",
       "\n",
       "    .dataframe tbody tr th {\n",
       "        vertical-align: top;\n",
       "    }\n",
       "\n",
       "    .dataframe thead th {\n",
       "        text-align: right;\n",
       "    }\n",
       "</style>\n",
       "<table border=\"1\" class=\"dataframe\">\n",
       "  <thead>\n",
       "    <tr style=\"text-align: right;\">\n",
       "      <th></th>\n",
       "      <th>StudyInstanceUID</th>\n",
       "      <th>SeriesInstanceUID</th>\n",
       "      <th>pe_present_on_image</th>\n",
       "      <th>negative_exam_for_pe</th>\n",
       "      <th>indeterminate</th>\n",
       "      <th>chronic_pe</th>\n",
       "      <th>acute_and_chronic_pe</th>\n",
       "      <th>central_pe</th>\n",
       "      <th>leftsided_pe</th>\n",
       "      <th>rightsided_pe</th>\n",
       "      <th>rv_lv_ratio_gte_1</th>\n",
       "      <th>rv_lv_ratio_lt_1</th>\n",
       "      <th>fold</th>\n",
       "      <th>img_pos</th>\n",
       "      <th>patient_position</th>\n",
       "      <th>intercept</th>\n",
       "      <th>slope</th>\n",
       "    </tr>\n",
       "    <tr>\n",
       "      <th>SOPInstanceUID</th>\n",
       "      <th></th>\n",
       "      <th></th>\n",
       "      <th></th>\n",
       "      <th></th>\n",
       "      <th></th>\n",
       "      <th></th>\n",
       "      <th></th>\n",
       "      <th></th>\n",
       "      <th></th>\n",
       "      <th></th>\n",
       "      <th></th>\n",
       "      <th></th>\n",
       "      <th></th>\n",
       "      <th></th>\n",
       "      <th></th>\n",
       "      <th></th>\n",
       "      <th></th>\n",
       "    </tr>\n",
       "  </thead>\n",
       "  <tbody>\n",
       "    <tr>\n",
       "      <th>c0f3cb036d06</th>\n",
       "      <td>6897fa9de148</td>\n",
       "      <td>2bfbb7fd2e8b</td>\n",
       "      <td>0</td>\n",
       "      <td>0</td>\n",
       "      <td>0</td>\n",
       "      <td>0</td>\n",
       "      <td>0</td>\n",
       "      <td>0</td>\n",
       "      <td>1</td>\n",
       "      <td>1</td>\n",
       "      <td>0</td>\n",
       "      <td>1</td>\n",
       "      <td>3</td>\n",
       "      <td>-234.5</td>\n",
       "      <td>HFS</td>\n",
       "      <td>-1024</td>\n",
       "      <td>1</td>\n",
       "    </tr>\n",
       "    <tr>\n",
       "      <th>f57ffd3883b6</th>\n",
       "      <td>6897fa9de148</td>\n",
       "      <td>2bfbb7fd2e8b</td>\n",
       "      <td>0</td>\n",
       "      <td>0</td>\n",
       "      <td>0</td>\n",
       "      <td>0</td>\n",
       "      <td>0</td>\n",
       "      <td>0</td>\n",
       "      <td>1</td>\n",
       "      <td>1</td>\n",
       "      <td>0</td>\n",
       "      <td>1</td>\n",
       "      <td>3</td>\n",
       "      <td>-252.5</td>\n",
       "      <td>HFS</td>\n",
       "      <td>-1024</td>\n",
       "      <td>1</td>\n",
       "    </tr>\n",
       "    <tr>\n",
       "      <th>41220fda34a3</th>\n",
       "      <td>6897fa9de148</td>\n",
       "      <td>2bfbb7fd2e8b</td>\n",
       "      <td>0</td>\n",
       "      <td>0</td>\n",
       "      <td>0</td>\n",
       "      <td>0</td>\n",
       "      <td>0</td>\n",
       "      <td>0</td>\n",
       "      <td>1</td>\n",
       "      <td>1</td>\n",
       "      <td>0</td>\n",
       "      <td>1</td>\n",
       "      <td>3</td>\n",
       "      <td>-432.5</td>\n",
       "      <td>HFS</td>\n",
       "      <td>-1024</td>\n",
       "      <td>1</td>\n",
       "    </tr>\n",
       "    <tr>\n",
       "      <th>13b685b4b14f</th>\n",
       "      <td>6897fa9de148</td>\n",
       "      <td>2bfbb7fd2e8b</td>\n",
       "      <td>0</td>\n",
       "      <td>0</td>\n",
       "      <td>0</td>\n",
       "      <td>0</td>\n",
       "      <td>0</td>\n",
       "      <td>0</td>\n",
       "      <td>1</td>\n",
       "      <td>1</td>\n",
       "      <td>0</td>\n",
       "      <td>1</td>\n",
       "      <td>3</td>\n",
       "      <td>-434.5</td>\n",
       "      <td>HFS</td>\n",
       "      <td>-1024</td>\n",
       "      <td>1</td>\n",
       "    </tr>\n",
       "    <tr>\n",
       "      <th>be0b7524ffb4</th>\n",
       "      <td>6897fa9de148</td>\n",
       "      <td>2bfbb7fd2e8b</td>\n",
       "      <td>0</td>\n",
       "      <td>0</td>\n",
       "      <td>0</td>\n",
       "      <td>0</td>\n",
       "      <td>0</td>\n",
       "      <td>0</td>\n",
       "      <td>1</td>\n",
       "      <td>1</td>\n",
       "      <td>0</td>\n",
       "      <td>1</td>\n",
       "      <td>3</td>\n",
       "      <td>-436.5</td>\n",
       "      <td>HFS</td>\n",
       "      <td>-1024</td>\n",
       "      <td>1</td>\n",
       "    </tr>\n",
       "  </tbody>\n",
       "</table>\n",
       "</div>"
      ],
      "text/plain": [
       "               StudyInstanceUID SeriesInstanceUID  pe_present_on_image  \\\n",
       "SOPInstanceUID                                                           \n",
       "c0f3cb036d06       6897fa9de148      2bfbb7fd2e8b                    0   \n",
       "f57ffd3883b6       6897fa9de148      2bfbb7fd2e8b                    0   \n",
       "41220fda34a3       6897fa9de148      2bfbb7fd2e8b                    0   \n",
       "13b685b4b14f       6897fa9de148      2bfbb7fd2e8b                    0   \n",
       "be0b7524ffb4       6897fa9de148      2bfbb7fd2e8b                    0   \n",
       "\n",
       "                negative_exam_for_pe  indeterminate  chronic_pe  \\\n",
       "SOPInstanceUID                                                    \n",
       "c0f3cb036d06                       0              0           0   \n",
       "f57ffd3883b6                       0              0           0   \n",
       "41220fda34a3                       0              0           0   \n",
       "13b685b4b14f                       0              0           0   \n",
       "be0b7524ffb4                       0              0           0   \n",
       "\n",
       "                acute_and_chronic_pe  central_pe  leftsided_pe  rightsided_pe  \\\n",
       "SOPInstanceUID                                                                  \n",
       "c0f3cb036d06                       0           0             1              1   \n",
       "f57ffd3883b6                       0           0             1              1   \n",
       "41220fda34a3                       0           0             1              1   \n",
       "13b685b4b14f                       0           0             1              1   \n",
       "be0b7524ffb4                       0           0             1              1   \n",
       "\n",
       "                rv_lv_ratio_gte_1  rv_lv_ratio_lt_1  fold  img_pos  \\\n",
       "SOPInstanceUID                                                       \n",
       "c0f3cb036d06                    0                 1     3   -234.5   \n",
       "f57ffd3883b6                    0                 1     3   -252.5   \n",
       "41220fda34a3                    0                 1     3   -432.5   \n",
       "13b685b4b14f                    0                 1     3   -434.5   \n",
       "be0b7524ffb4                    0                 1     3   -436.5   \n",
       "\n",
       "               patient_position  intercept  slope  \n",
       "SOPInstanceUID                                     \n",
       "c0f3cb036d06                HFS      -1024      1  \n",
       "f57ffd3883b6                HFS      -1024      1  \n",
       "41220fda34a3                HFS      -1024      1  \n",
       "13b685b4b14f                HFS      -1024      1  \n",
       "be0b7524ffb4                HFS      -1024      1  "
      ]
     },
     "execution_count": 7,
     "metadata": {},
     "output_type": "execute_result"
    }
   ],
   "source": [
    "dataDF.head()"
   ]
  },
  {
   "cell_type": "code",
   "execution_count": 8,
   "metadata": {},
   "outputs": [],
   "source": [
    "trainDF = dataDF[dataDF['fold']!=0]\n",
    "valDF = dataDF[dataDF['fold']==0]"
   ]
  },
  {
   "cell_type": "code",
   "execution_count": 9,
   "metadata": {},
   "outputs": [],
   "source": [
    "class embeddingsDataset(Dataset):\n",
    "    \"\"\"create sample dataset to work with\"\"\"\n",
    "\n",
    "    def __init__(self, dataDF = None, listOfStudies = None, embeddingDirPath = None):\n",
    "        self.dataDF = dataDF\n",
    "        self.listOfStudies = listOfStudies\n",
    "        self.embeddingDirPath = embeddingDirPath\n",
    "\n",
    "    def __len__(self):\n",
    "        return len(self.listOfStudies)\n",
    "\n",
    "    def __getitem__(self, idx):\n",
    "        embedDict = pickle.load(open(self.embeddingDirPath+self.listOfStudies[idx]+'.p', 'rb'))\n",
    "        embeddingVolume = np.array(embedDict['embeddings'])\n",
    "        listOfImages = embedDict['ids']\n",
    "        imageLevelLabels = [self.dataDF.loc[eachImageID, 'pe_present_on_image']for eachImageID in listOfImages]\n",
    "        imageLevelLabels = np.array(imageLevelLabels).astype(np.float32)\n",
    "        studyLevelLabels = self.dataDF.loc[listOfImages[0]][3:12].values\n",
    "        studyLevelLabels = np.array(studyLevelLabels).astype(np.float32)\n",
    "        return embeddingVolume, (imageLevelLabels, studyLevelLabels)"
   ]
  },
  {
   "cell_type": "code",
   "execution_count": 10,
   "metadata": {},
   "outputs": [],
   "source": [
    "INPUT_SIZE = 64\n",
    "HIDDEN_SIZE = 32\n",
    "NUM_LAYERS = 1\n",
    "NUM_CLASSES = 1\n",
    "\n",
    "class BiGRU(nn.Module):\n",
    "    def __init__(self, input_size, hidden_size, num_layers, num_classes):\n",
    "        super(BiGRU, self).__init__()\n",
    "        self.hidden_size = hidden_size\n",
    "        self.num_layers = num_layers\n",
    "        self.GRU = nn.GRU(\n",
    "            input_size, hidden_size, num_layers, batch_first=True, bidirectional=True\n",
    "        )\n",
    "        self.linear1 = nn.Linear(hidden_size*2, hidden_size)\n",
    "        self.linear2 = nn.Linear(hidden_size, num_classes)\n",
    "        self.linear3 = nn.Linear(hidden_size*2, hidden_size)\n",
    "        self.linear4 = nn.Linear(hidden_size, 9)\n",
    "\n",
    "    def forward(self, x):\n",
    "        imageLevelOutputs = []\n",
    "        h0 = torch.zeros(self.num_layers * 2, x.size(0), self.hidden_size).cuda()\n",
    "        #c0 = torch.zeros(self.num_layers * 2, x.size(0), self.hidden_size).cuda()\n",
    "\n",
    "        out, h_n = self.GRU(x, h0)\n",
    "        \n",
    "        for i, out_t in enumerate(out.chunk(out.size(1), dim=1)):\n",
    "            out_t = out_t.squeeze(1)\n",
    "            out_t = F.relu(self.linear1(out_t))\n",
    "            out_t = self.linear2(out_t)\n",
    "            imageLevelOutputs += [out_t]\n",
    "        imageLevelOutputs = torch.stack(imageLevelOutputs, 1).squeeze(2)\n",
    "        \n",
    "        h_n = h_n.view(1,-1)\n",
    "        studyLevelOutputs = F.relu(self.linear3(h_n))\n",
    "        studyLevelOutputs = self.linear4(studyLevelOutputs)\n",
    "        \n",
    "        return (imageLevelOutputs, studyLevelOutputs)"
   ]
  },
  {
   "cell_type": "code",
   "execution_count": 11,
   "metadata": {},
   "outputs": [],
   "source": [
    "seq = BiGRU(INPUT_SIZE, HIDDEN_SIZE, NUM_LAYERS, NUM_CLASSES).cuda()"
   ]
  },
  {
   "cell_type": "markdown",
   "metadata": {},
   "source": [
    "# batch,seqNum,features\n",
    "sampleInput = torch.rand((1,120,64)).cuda()\n",
    "sampleImgOutput, sampleStdOutput = seq(sampleInput)\n",
    "print(sampleImgOutput.size())\n",
    "print(sampleStdOutput.size())"
   ]
  },
  {
   "cell_type": "code",
   "execution_count": 12,
   "metadata": {},
   "outputs": [],
   "source": [
    "def customLoss(imageLevelOutputLogits, imageLevelLabels, studyLeveloutputLogits, studyLevelLabels, rho=0.5):\n",
    "    imageLevelLoss = F.binary_cross_entropy_with_logits(imageLevelOutputLogits,imageLevelLabels,pos_weight = torch.tensor([2.0]).cuda())\n",
    "    \n",
    "    studyLevelLoss = 0\n",
    "    weightList = [0.0736196319, 0.09202453988, 0.1042944785, 0.1042944785, 0.1877300613, 0.06257668712, 0.06257668712, 0.2346625767, 0.0782208589]\n",
    "    for eachInd in range(9):\n",
    "        studyLevelLoss += weightList[eachInd]*F.binary_cross_entropy_with_logits(studyLeveloutputLogits[:,eachInd],studyLevelLabels[:,eachInd])\n",
    "    \n",
    "    return rho*imageLevelLoss+(1-rho)*studyLevelLoss, imageLevelLoss, studyLevelLoss\n",
    "\n",
    "def competitionMetric(imageLevelOutputLogits, imageLevelLabels, studyLeveloutputLogits, studyLevelLabels):\n",
    "    imageLevelLoss = 0.07361963*(torch.sum(imageLevelLabels)/imageLevelLabels.size(1))*F.binary_cross_entropy_with_logits(imageLevelOutputLogits,imageLevelLabels,reduction='sum')\n",
    "    \n",
    "    studyLevelLoss = 0\n",
    "    weightList = [0.0736196319, 0.09202453988, 0.1042944785, 0.1042944785, 0.1877300613, 0.06257668712, 0.06257668712, 0.2346625767, 0.0782208589]\n",
    "    for eachInd in range(9):\n",
    "        studyLevelLoss += weightList[eachInd]*F.binary_cross_entropy_with_logits(studyLeveloutputLogits[:,eachInd],studyLevelLabels[:,eachInd], reduction='sum')\n",
    "    \n",
    "    return imageLevelLoss+studyLevelLoss, imageLevelLabels.size(1)+9"
   ]
  },
  {
   "cell_type": "code",
   "execution_count": 13,
   "metadata": {},
   "outputs": [],
   "source": [
    "optimizer = optim.Adam(seq.parameters(), lr=5e-5)"
   ]
  },
  {
   "cell_type": "code",
   "execution_count": 14,
   "metadata": {},
   "outputs": [],
   "source": [
    "valEmbeddingDirPath = 'data/embeddings/CNNmodel_01_cv0_epoch1_20201014_0012/val/'\n",
    "augEmbeddingDirPathBase = 'data/embeddings/CNNmodel_01_cv0_epoch1_20201014_0012/aug'\n",
    "\n",
    "valEmbeddingsDataset = embeddingsDataset(dataDF=dataDF, listOfStudies=valDF['StudyInstanceUID'].unique(), embeddingDirPath=valEmbeddingDirPath)\n",
    "valEmbeddingsDataloader = DataLoader(valEmbeddingsDataset, batch_size=1, shuffle=False, num_workers=1)"
   ]
  },
  {
   "cell_type": "code",
   "execution_count": 15,
   "metadata": {},
   "outputs": [],
   "source": [
    "def train_loop(model, epoch):\n",
    "    train_total = train_correct = train_cost_tot = train_cost1 = train_cost2 = 0\n",
    "    seq.train()\n",
    "    thisEmbeddingDirPath = augEmbeddingDirPathBase + str(epoch).zfill(2) + '/'\n",
    "    thisEmbeddingsDataset = embeddingsDataset(dataDF=dataDF, listOfStudies=trainDF['StudyInstanceUID'].unique(), embeddingDirPath=thisEmbeddingDirPath)\n",
    "    train_loader = DataLoader(thisEmbeddingsDataset, batch_size=1, shuffle=True, num_workers=1)\n",
    "    for x, (y_img, y_std) in tqdm(train_loader):\n",
    "        x = x.cuda()\n",
    "        y_img = y_img.cuda()\n",
    "        y_std = y_std.cuda()\n",
    "        optimizer.zero_grad()\n",
    "        (o_img, o_std) = seq(x)\n",
    "        train_total += y_img.size(1)\n",
    "        train_correct += ((torch.sigmoid(o_img[0,:])>0.5) == (y_img[0,:]>0.5)).sum().item()\n",
    "        loss, loss1, loss2 = customLoss(o_img, y_img, o_std, y_std, rho=0.3)\n",
    "        loss.backward()\n",
    "        optimizer.step()\n",
    "        train_cost_tot += loss.item()\n",
    "        train_cost1 += loss1.item()\n",
    "        train_cost2 += loss2.item()\n",
    "    return 100*train_cost_tot/train_total, 100*train_cost1/train_total, 100*train_cost2/train_total, train_correct/train_total \n",
    "\n",
    "def valid_loop(model, valid_loader):\n",
    "    # Evaluate on validation  data \n",
    "    val_total = val_correct = val_cost_tot = val_cost1 = val_cost2 = val_metric_tot = rows_tot = 0\n",
    "    model.eval()\n",
    "    with torch.no_grad():\n",
    "        for x_val, (y_val_img, y_val_std) in tqdm(valid_loader):\n",
    "            x_val = x_val.cuda()\n",
    "            y_val_img = y_val_img.cuda()\n",
    "            y_val_std = y_val_std.cuda()\n",
    "            (o_val_img, o_val_std) = seq(x_val)\n",
    "            # Calculate loss and metric\n",
    "            val_total += y_val_img.size(1)\n",
    "            val_correct += ((torch.sigmoid(o_val_img[0,:])>0.5) == (y_val_img[0,:]>0.5)).sum().item()\n",
    "            loss, loss1, loss2 = customLoss(o_val_img, y_val_img, o_val_std, y_val_std, rho=0.3)\n",
    "            metric, numRows = competitionMetric(o_val_img, y_val_img, o_val_std, y_val_std)\n",
    "            val_cost_tot += loss.item()\n",
    "            val_cost1 += loss1.item()\n",
    "            val_cost2 += loss2.item()\n",
    "            val_metric_tot += metric.item()\n",
    "            rows_tot += numRows\n",
    "    return 100*val_cost_tot/val_total, 100*val_cost1/val_total, 100*val_cost2/val_total, 100*val_metric_tot/rows_tot, val_correct/val_total\n",
    "\n",
    "def main_loop(n_epochs):\n",
    "    val_avgCostList = []\n",
    "    val_Cost1List = []\n",
    "    val_Cost2List = []\n",
    "    for epoch in range(n_epochs):\n",
    "        print('epoch ' + str(epoch) + ':')\n",
    "        train_avgCost, train_Cost1, train_Cost2, train_acc = train_loop(seq, epoch)\n",
    "        val_avgCost, val_Cost1, val_Cost2, val_compMetric, val_acc = valid_loop(seq, valEmbeddingsDataloader)\n",
    "        val_avgCostList.append(val_avgCost)\n",
    "        val_Cost1List.append(val_Cost1)\n",
    "        val_Cost2List.append(val_Cost2)\n",
    "        print('train_cost: %.4f, train_cost_img: %.4f, train_cost_std: %.4f,train_acc: %.4f'\\\n",
    "              % (train_avgCost, train_Cost1, train_Cost2, train_acc))\n",
    "        print('val_cost: %.4f, val_cost_img: %.4f, val_cost_std: %.4f, val_compMetric: %.4f, val_acc: %.4f'\\\n",
    "              % (val_avgCost, val_Cost1, val_Cost2, val_compMetric, val_acc))\n",
    "        modelPath = 'models/embedderModel/cv0/CNNmodel_01_cv0_epoch2_20201014_0901_sequence' + str(epoch) + '_' + DATESTRING +'.pth'\n",
    "        print('saving: ',modelPath)\n",
    "        torch.save(seq, modelPath)\n",
    "    return val_avgCostList, val_Cost1List, val_Cost2List"
   ]
  },
  {
   "cell_type": "code",
   "execution_count": 16,
   "metadata": {
    "scrolled": false
   },
   "outputs": [
    {
     "name": "stderr",
     "output_type": "stream",
     "text": [
      "\r",
      "  0%|          | 0/5823 [00:00<?, ?it/s]"
     ]
    },
    {
     "name": "stdout",
     "output_type": "stream",
     "text": [
      "epoch 0:\n"
     ]
    },
    {
     "name": "stderr",
     "output_type": "stream",
     "text": [
      "100%|██████████| 5823/5823 [06:00<00:00, 16.17it/s]\n",
      "100%|██████████| 1456/1456 [00:38<00:00, 38.08it/s]\n",
      "  0%|          | 0/5823 [00:00<?, ?it/s]"
     ]
    },
    {
     "name": "stdout",
     "output_type": "stream",
     "text": [
      "train_cost: 0.1097, train_cost_img: 0.0545, train_cost_std: 0.1333,train_acc: 0.9729\n",
      "val_cost: 0.0880, val_cost_img: 0.0558, val_cost_std: 0.1017, val_compMetric: 0.2045, val_acc: 0.9702\n",
      "saving:  models/embedderModel/cv0/CNNmodel_01_cv0_epoch2_20201014_0901_sequence0_20201020_1653.pth\n",
      "epoch 1:\n"
     ]
    },
    {
     "name": "stderr",
     "output_type": "stream",
     "text": [
      "100%|██████████| 5823/5823 [06:00<00:00, 16.13it/s]\n",
      "100%|██████████| 1456/1456 [00:38<00:00, 37.98it/s]\n",
      "  0%|          | 0/5823 [00:00<?, ?it/s]"
     ]
    },
    {
     "name": "stdout",
     "output_type": "stream",
     "text": [
      "train_cost: 0.0726, train_cost_img: 0.0398, train_cost_std: 0.0867,train_acc: 0.9758\n",
      "val_cost: 0.0803, val_cost_img: 0.0555, val_cost_std: 0.0910, val_compMetric: 0.1946, val_acc: 0.9711\n",
      "saving:  models/embedderModel/cv0/CNNmodel_01_cv0_epoch2_20201014_0901_sequence1_20201020_1653.pth\n",
      "epoch 2:\n"
     ]
    },
    {
     "name": "stderr",
     "output_type": "stream",
     "text": [
      "100%|██████████| 5823/5823 [05:59<00:00, 16.20it/s]\n",
      "100%|██████████| 1456/1456 [00:38<00:00, 38.29it/s]\n",
      "  0%|          | 0/5823 [00:00<?, ?it/s]"
     ]
    },
    {
     "name": "stdout",
     "output_type": "stream",
     "text": [
      "train_cost: 0.0687, train_cost_img: 0.0386, train_cost_std: 0.0815,train_acc: 0.9766\n",
      "val_cost: 0.0784, val_cost_img: 0.0538, val_cost_std: 0.0889, val_compMetric: 0.1890, val_acc: 0.9717\n",
      "saving:  models/embedderModel/cv0/CNNmodel_01_cv0_epoch2_20201014_0901_sequence2_20201020_1653.pth\n",
      "epoch 3:\n"
     ]
    },
    {
     "name": "stderr",
     "output_type": "stream",
     "text": [
      "100%|██████████| 5823/5823 [05:59<00:00, 16.20it/s]\n",
      "100%|██████████| 1456/1456 [00:38<00:00, 37.98it/s]\n",
      "  0%|          | 0/5823 [00:00<?, ?it/s]"
     ]
    },
    {
     "name": "stdout",
     "output_type": "stream",
     "text": [
      "train_cost: 0.0675, train_cost_img: 0.0382, train_cost_std: 0.0800,train_acc: 0.9771\n",
      "val_cost: 0.0781, val_cost_img: 0.0541, val_cost_std: 0.0885, val_compMetric: 0.1896, val_acc: 0.9714\n",
      "saving:  models/embedderModel/cv0/CNNmodel_01_cv0_epoch2_20201014_0901_sequence3_20201020_1653.pth\n",
      "epoch 4:\n"
     ]
    },
    {
     "name": "stderr",
     "output_type": "stream",
     "text": [
      "100%|██████████| 5823/5823 [05:58<00:00, 16.23it/s]\n",
      "100%|██████████| 1456/1456 [00:38<00:00, 38.10it/s]\n",
      "  0%|          | 0/5823 [00:00<?, ?it/s]"
     ]
    },
    {
     "name": "stdout",
     "output_type": "stream",
     "text": [
      "train_cost: 0.0667, train_cost_img: 0.0375, train_cost_std: 0.0792,train_acc: 0.9777\n",
      "val_cost: 0.0776, val_cost_img: 0.0540, val_cost_std: 0.0877, val_compMetric: 0.1895, val_acc: 0.9725\n",
      "saving:  models/embedderModel/cv0/CNNmodel_01_cv0_epoch2_20201014_0901_sequence4_20201020_1653.pth\n",
      "epoch 5:\n"
     ]
    },
    {
     "name": "stderr",
     "output_type": "stream",
     "text": [
      "100%|██████████| 5823/5823 [05:58<00:00, 16.24it/s]\n",
      "100%|██████████| 1456/1456 [00:38<00:00, 38.23it/s]\n",
      "  0%|          | 0/5823 [00:00<?, ?it/s]"
     ]
    },
    {
     "name": "stdout",
     "output_type": "stream",
     "text": [
      "train_cost: 0.0659, train_cost_img: 0.0377, train_cost_std: 0.0779,train_acc: 0.9776\n",
      "val_cost: 0.0767, val_cost_img: 0.0522, val_cost_std: 0.0872, val_compMetric: 0.1844, val_acc: 0.9714\n",
      "saving:  models/embedderModel/cv0/CNNmodel_01_cv0_epoch2_20201014_0901_sequence5_20201020_1653.pth\n",
      "epoch 6:\n"
     ]
    },
    {
     "name": "stderr",
     "output_type": "stream",
     "text": [
      "100%|██████████| 5823/5823 [05:59<00:00, 16.21it/s]\n",
      "100%|██████████| 1456/1456 [00:38<00:00, 37.92it/s]\n",
      "  0%|          | 0/5823 [00:00<?, ?it/s]"
     ]
    },
    {
     "name": "stdout",
     "output_type": "stream",
     "text": [
      "train_cost: 0.0652, train_cost_img: 0.0374, train_cost_std: 0.0771,train_acc: 0.9779\n",
      "val_cost: 0.0779, val_cost_img: 0.0548, val_cost_std: 0.0878, val_compMetric: 0.1913, val_acc: 0.9733\n",
      "saving:  models/embedderModel/cv0/CNNmodel_01_cv0_epoch2_20201014_0901_sequence6_20201020_1653.pth\n",
      "epoch 7:\n"
     ]
    },
    {
     "name": "stderr",
     "output_type": "stream",
     "text": [
      "100%|██████████| 5823/5823 [05:59<00:00, 16.21it/s]\n",
      "100%|██████████| 1456/1456 [00:38<00:00, 38.26it/s]\n",
      "  0%|          | 0/5823 [00:00<?, ?it/s]"
     ]
    },
    {
     "name": "stdout",
     "output_type": "stream",
     "text": [
      "train_cost: 0.0648, train_cost_img: 0.0374, train_cost_std: 0.0766,train_acc: 0.9778\n",
      "val_cost: 0.0773, val_cost_img: 0.0545, val_cost_std: 0.0871, val_compMetric: 0.1899, val_acc: 0.9718\n",
      "saving:  models/embedderModel/cv0/CNNmodel_01_cv0_epoch2_20201014_0901_sequence7_20201020_1653.pth\n",
      "epoch 8:\n"
     ]
    },
    {
     "name": "stderr",
     "output_type": "stream",
     "text": [
      "100%|██████████| 5823/5823 [05:59<00:00, 16.21it/s]\n",
      "100%|██████████| 1456/1456 [00:38<00:00, 37.84it/s]\n",
      "  0%|          | 0/5823 [00:00<?, ?it/s]"
     ]
    },
    {
     "name": "stdout",
     "output_type": "stream",
     "text": [
      "train_cost: 0.0645, train_cost_img: 0.0374, train_cost_std: 0.0761,train_acc: 0.9778\n",
      "val_cost: 0.0777, val_cost_img: 0.0525, val_cost_std: 0.0885, val_compMetric: 0.1864, val_acc: 0.9689\n",
      "saving:  models/embedderModel/cv0/CNNmodel_01_cv0_epoch2_20201014_0901_sequence8_20201020_1653.pth\n",
      "epoch 9:\n"
     ]
    },
    {
     "name": "stderr",
     "output_type": "stream",
     "text": [
      "100%|██████████| 5823/5823 [05:59<00:00, 16.21it/s]\n",
      "100%|██████████| 1456/1456 [00:38<00:00, 37.82it/s]\n"
     ]
    },
    {
     "name": "stdout",
     "output_type": "stream",
     "text": [
      "train_cost: 0.0643, train_cost_img: 0.0369, train_cost_std: 0.0761,train_acc: 0.9780\n",
      "val_cost: 0.0761, val_cost_img: 0.0537, val_cost_std: 0.0858, val_compMetric: 0.1879, val_acc: 0.9722\n",
      "saving:  models/embedderModel/cv0/CNNmodel_01_cv0_epoch2_20201014_0901_sequence9_20201020_1653.pth\n"
     ]
    }
   ],
   "source": [
    "list1, list2, list3 = main_loop(10)"
   ]
  },
  {
   "cell_type": "code",
   "execution_count": 17,
   "metadata": {},
   "outputs": [
    {
     "data": {
      "text/plain": [
       "[<matplotlib.lines.Line2D at 0x7f2936e58a90>]"
      ]
     },
     "execution_count": 17,
     "metadata": {},
     "output_type": "execute_result"
    },
    {
     "data": {
      "image/png": "[encoded data removed]",
      "text/plain": [
       "<Figure size 432x288 with 1 Axes>"
      ]
     },
     "metadata": {
      "needs_background": "light"
     },
     "output_type": "display_data"
    }
   ],
   "source": [
    "plt.plot(list1)\n",
    "plt.plot(list2)\n",
    "plt.plot(list3)"
   ]
  },
  {
   "cell_type": "code",
   "execution_count": 18,
   "metadata": {},
   "outputs": [],
   "source": [
    "iterVal = iter(valEmbeddingsDataloader)"
   ]
  },
  {
   "cell_type": "code",
   "execution_count": 19,
   "metadata": {},
   "outputs": [
    {
     "name": "stdout",
     "output_type": "stream",
     "text": [
      "0.000887856527697295 0.0\n",
      "0.0005375599139370024 0.0\n",
      "0.00041726621566340327 0.0\n",
      "0.0003786877205129713 0.0\n",
      "0.0003437498235143721 0.0\n",
      "0.00029973092023283243 0.0\n",
      "0.0002955941890832037 0.0\n",
      "0.0002744350640568882 0.0\n",
      "0.00026955880457535386 0.0\n",
      "0.000269533134996891 0.0\n",
      "0.0002629551163408905 0.0\n",
      "0.0002658670418895781 0.0\n",
      "0.00026462029200047255 0.0\n",
      "0.0002650690439622849 0.0\n",
      "0.00026332869310863316 0.0\n",
      "0.0002593033423181623 0.0\n",
      "0.0002731226268224418 0.0\n",
      "0.00026228732895106077 0.0\n",
      "0.0002622200991027057 0.0\n",
      "0.0002741845091804862 0.0\n",
      "0.00028316539828665555 0.0\n",
      "0.0003027225029654801 0.0\n",
      "0.0003083539195358753 0.0\n",
      "0.0003791916824411601 0.0\n",
      "0.000532739155460149 0.0\n",
      "0.0005143961170688272 0.0\n",
      "0.0006337127997539937 0.0\n",
      "0.0007618879899382591 0.0\n",
      "0.000697999494150281 0.0\n",
      "0.000773520499933511 0.0\n",
      "0.0009637084440328181 0.0\n",
      "0.0010740141151472926 0.0\n",
      "0.0010895337909460068 0.0\n",
      "0.001484875101596117 0.0\n",
      "0.0020846219267696142 0.0\n",
      "0.0024610068649053574 0.0\n",
      "0.003314586356282234 0.0\n",
      "0.0020371326245367527 0.0\n",
      "0.002152157248929143 0.0\n",
      "0.0023964981082826853 0.0\n",
      "0.0027272666338831186 0.0\n",
      "0.002832587342709303 0.0\n",
      "0.0026800676714628935 0.0\n",
      "0.003419507760554552 0.0\n",
      "0.003844623686745763 0.0\n",
      "0.005483428481966257 0.0\n",
      "0.008496744558215141 0.0\n",
      "0.013638708740472794 0.0\n",
      "0.006989466492086649 0.0\n",
      "0.006945518311113119 0.0\n",
      "0.007692719344049692 0.0\n",
      "0.010527308098971844 0.0\n",
      "0.01468751858919859 0.0\n",
      "0.035972267389297485 0.0\n",
      "0.02354077436029911 0.0\n",
      "0.018369324505329132 0.0\n",
      "0.011363997124135494 0.0\n",
      "0.017820967361330986 0.0\n",
      "0.03595185652375221 0.0\n",
      "0.017151225358247757 0.0\n",
      "0.010305430740118027 0.0\n",
      "0.007722452748566866 0.0\n",
      "0.008289696648716927 0.0\n",
      "0.03363213688135147 0.0\n",
      "0.01887049339711666 0.0\n",
      "0.016973013058304787 0.0\n",
      "0.020901603624224663 0.0\n",
      "0.03264099732041359 0.0\n",
      "0.01664065383374691 0.0\n",
      "0.01205928809940815 0.0\n",
      "0.013443163596093655 0.0\n",
      "0.023075055330991745 0.0\n",
      "0.00856624823063612 0.0\n",
      "0.0068373666144907475 0.0\n",
      "0.00920657254755497 0.0\n",
      "0.00964357890188694 0.0\n",
      "0.010410809889435768 0.0\n",
      "0.01234809122979641 0.0\n",
      "0.06020212173461914 0.0\n",
      "0.013501673005521297 0.0\n",
      "0.013811968266963959 0.0\n",
      "0.01716986857354641 0.0\n",
      "0.02967160753905773 0.0\n",
      "0.01774672046303749 0.0\n",
      "0.01828860677778721 0.0\n",
      "0.03613908961415291 0.0\n",
      "0.042522720992565155 0.0\n",
      "0.04258676990866661 0.0\n",
      "0.03628842532634735 0.0\n",
      "0.029744841158390045 0.0\n",
      "0.05139283835887909 0.0\n",
      "0.05889922007918358 0.0\n",
      "0.09051802009344101 0.0\n",
      "0.07467565685510635 0.0\n",
      "0.08643555641174316 0.0\n",
      "0.07943340390920639 0.0\n",
      "0.06630656868219376 0.0\n",
      "0.08329275995492935 0.0\n",
      "0.03714995086193085 0.0\n",
      "0.013252152130007744 0.0\n",
      "0.006972010713070631 0.0\n",
      "0.006048872601240873 0.0\n",
      "0.005700740031898022 0.0\n",
      "0.006653030402958393 0.0\n",
      "0.002538525965064764 0.0\n",
      "0.0026453034952282906 0.0\n",
      "0.0020018559880554676 0.0\n",
      "0.00187585165258497 0.0\n",
      "0.0017204275354743004 0.0\n",
      "0.001825085491873324 0.0\n",
      "0.0020509182941168547 0.0\n",
      "0.0020990485791116953 0.0\n",
      "0.002408017171546817 0.0\n",
      "0.00225848238915205 0.0\n",
      "0.0023430821020156145 0.0\n",
      "0.0021417150273919106 0.0\n",
      "0.0020755117293447256 0.0\n",
      "0.0020428162533789873 0.0\n",
      "0.0022584651596844196 0.0\n",
      "0.002780555747449398 0.0\n",
      "0.0028609393630176783 0.0\n",
      "0.0032934914343059063 0.0\n",
      "0.002608594950288534 0.0\n",
      "0.0022993225138634443 0.0\n",
      "0.0025408596266061068 0.0\n",
      "0.002266491763293743 0.0\n",
      "0.0017417221097275615 0.0\n",
      "0.0010376820573583245 0.0\n",
      "0.0006962840561755002 0.0\n",
      "0.0005222447216510773 0.0\n",
      "0.0005519344704225659 0.0\n",
      "0.0005045099533163011 0.0\n",
      "0.00047003739746287465 0.0\n",
      "0.0005623633041977882 0.0\n",
      "0.0004994162591174245 0.0\n",
      "0.000605301815085113 0.0\n",
      "0.000443682394688949 0.0\n",
      "0.00045717754983343184 0.0\n",
      "0.0006021222216077149 0.0\n",
      "0.0005596834816969931 0.0\n",
      "0.000975075934547931 0.0\n",
      "0.0008122919243760407 0.0\n",
      "0.0005410430603660643 0.0\n",
      "0.0005726423696614802 0.0\n",
      "0.0009668454295024276 0.0\n"
     ]
    }
   ],
   "source": [
    "# Sanity Check\n",
    "seq.eval()\n",
    "with torch.no_grad():\n",
    "    x,(y_img, _) = next(iterVal)\n",
    "    x=x.cuda()\n",
    "    o_img, _ = seq(x)\n",
    "    pred = torch.sigmoid(o_img)\n",
    "    for eachIndex in range(pred.size(1)):\n",
    "        print((pred[0,eachIndex]).type(torch.float).item(), y_img[0, eachIndex].item())"
   ]
  }
 ],
 "metadata": {
  "kernelspec": {
   "display_name": "pyTorchEnv37",
   "language": "python",
   "name": "pytorchenv37"
  },
  "language_info": {
   "codemirror_mode": {
    "name": "ipython",
    "version": 3
   },
   "file_extension": ".py",
   "mimetype": "text/x-python",
   "name": "python",
   "nbconvert_exporter": "python",
   "pygments_lexer": "ipython3",
   "version": "3.7.9"
  }
 },
 "nbformat": 4,
 "nbformat_minor": 4
}
